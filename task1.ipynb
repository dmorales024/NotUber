{
 "cells": [
  {
   "cell_type": "code",
   "execution_count": 1,
   "id": "9f05758d",
   "metadata": {},
   "outputs": [],
   "source": [
    "from datetime import datetime, timedelta\n",
    "import numpy as np\n",
    "import pandas as pd\n",
    "import json\n",
    "import os\n",
    "import math\n",
    "import heapq\n",
    "import seaborn as sns\n",
    "import matplotlib.pyplot as plt\n",
    "import csv\n",
    "\n",
    "import random"
   ]
  },
  {
   "cell_type": "code",
   "execution_count": null,
   "id": "89a04837",
   "metadata": {},
   "outputs": [],
   "source": [
    "cwd = os.getcwd()\n",
    "print(cwd)"
   ]
  },
  {
   "cell_type": "markdown",
   "id": "0b8c4876",
   "metadata": {},
   "source": [
    "# Load Data"
   ]
  },
  {
   "cell_type": "code",
   "execution_count": null,
   "id": "44e59cd4",
   "metadata": {},
   "outputs": [],
   "source": [
    "with open(f'{cwd}/adjacency 2.json') as adjacency_f:\n",
    "    adjacency = json.load(adjacency_f)\n",
    "    \n",
    "with open(f'{cwd}/node_data.json') as node_f:\n",
    "    nodes = json.load(node_f)\n",
    "\n",
    "#nodes_df = pd.DataFrame(nodes).T"
   ]
  },
  {
   "cell_type": "markdown",
   "id": "31e78595",
   "metadata": {},
   "source": [
    "# Functions"
   ]
  },
  {
   "cell_type": "code",
   "execution_count": null,
   "id": "0f71d539",
   "metadata": {},
   "outputs": [],
   "source": [
    "def haversine_distance(lat1, lon1, lat2, lon2):\n",
    "    '''\n",
    "    Haversine distance metric between two points\n",
    "    '''\n",
    "    \n",
    "    #earth radius in km\n",
    "    radius = 6371.0\n",
    "\n",
    "    #convert lat lon into radians from degress\n",
    "    lat1 = math.radians(lat1)\n",
    "    lon1 = math.radians(lon1)\n",
    "    lat2 = math.radians(lat2)\n",
    "    lon2 = math.radians(lon2)\n",
    "\n",
    "    #haversine from wikipedia\n",
    "    dlon = lon2 - lon1\n",
    "    dlat = lat2 - lat1\n",
    "    a = math.sin(dlat / 2)**2 + math.cos(lat1) * math.cos(lat2) * math.sin(dlon / 2)**2\n",
    "    c = 2 * math.atan2(math.sqrt(a), math.sqrt(1 - a))\n",
    "    distance = radius * c\n",
    "\n",
    "    return distance"
   ]
  },
  {
   "cell_type": "code",
   "execution_count": null,
   "id": "5b027273",
   "metadata": {},
   "outputs": [],
   "source": [
    "def get_nearest_node(lat, lon):\n",
    "    '''\n",
    "    Find nearest node via Haversine distance\n",
    "    TODO: Find more efficient nearest node method, how account for time if very far from nearest node?\n",
    "    '''\n",
    "    min_dist = float('inf')\n",
    "    nearest_node = ''\n",
    "    for node in nodes:\n",
    "        dist = haversine_distance(nodes[node]['lat'], nodes[node]['lon'], lat, lon)\n",
    "        if dist < min_dist:\n",
    "            min_dist = dist\n",
    "            nearest_node = node\n",
    "    return nearest_node"
   ]
  },
  {
   "cell_type": "code",
   "execution_count": null,
   "id": "4c19609d",
   "metadata": {},
   "outputs": [],
   "source": [
    "def get_datetime(time_string):\n",
    "    '''\n",
    "    Convert any datetime strings to datetime\n",
    "    '''\n",
    "    datetime_format = \"%m/%d/%Y %H:%M:%S\"\n",
    "    time = datetime.strptime(time_string, datetime_format)\n",
    "    return time"
   ]
  },
  {
   "cell_type": "code",
   "execution_count": null,
   "id": "9ef966a1",
   "metadata": {},
   "outputs": [],
   "source": [
    "def djikstras(source, dest, dt, day_type, start_time):\n",
    "    '''\n",
    "    Djikstra's algorithm\n",
    "    Returns: dict of minimum distances to nodes and dict of node parents\n",
    "    '''\n",
    "    distance = {} #distances to each node\n",
    "    parent = {} #\n",
    "    hour = dt.hour\n",
    "    \n",
    "    #initialize all distances to infinity\n",
    "    for node in nodes:\n",
    "        distance[node] = float('inf')\n",
    "    distance[source] = 0\n",
    "    pq = [(0, source)]\n",
    "    while pq:\n",
    "        node_dist, node = heapq.heappop(pq)\n",
    "        if node == dest: #early stopping\n",
    "            break\n",
    "        if node in adjacency:\n",
    "            for neighbor in adjacency[node]:\n",
    "                for edge in adjacency[node][neighbor]:\n",
    "                    if edge['hour'] == hour and edge['day_type'] == day_type:\n",
    "                        edge_dist = edge['time']\n",
    "                        if distance[neighbor] > node_dist + edge_dist:\n",
    "                            #print(\"edge dist \", edge_dist)\n",
    "                           # print(\"node dist \", node_dist)\n",
    "                            distance[neighbor] = node_dist + edge_dist\n",
    "                           # print(distance[neighbor])\n",
    "                            parent[neighbor] = node\n",
    "                            heapq.heappush(pq, (distance[neighbor], neighbor))\n",
    "    return distance, parent"
   ]
  },
  {
   "cell_type": "code",
   "execution_count": null,
   "id": "b9aa06db",
   "metadata": {},
   "outputs": [],
   "source": [
    "def get_path(parent, source_node, dest_node):\n",
    "    '''\n",
    "    Recover path using list of node parents, start at destination and end at source\n",
    "    Returns: list of nodes in path (reverse order)\n",
    "    '''\n",
    "    path = [dest_node]\n",
    "    current_node = dest_node\n",
    "    while current_node != source_node:\n",
    "        path.append(parent[current_node])\n",
    "        current_node = parent[current_node]\n",
    "    return path"
   ]
  },
  {
   "cell_type": "code",
   "execution_count": null,
   "id": "d746b8a2",
   "metadata": {},
   "outputs": [],
   "source": [
    "def get_driver(p, dt, day_type, start_time):\n",
    "    '''\n",
    "    Get the next driver from the driver PQ (Task 1 based on time)\n",
    "    Update relevant driver and passenger variables and get the time to traverse from driver location to passenger pickup\n",
    "    Returns: Driver match\n",
    "    '''\n",
    "    p.total_time = 0\n",
    "    available_time, idx, d = heapq.heappop(driver_q) #(datetime, id, driver object)\n",
    "\n",
    "    wait_time = 0\n",
    "    if p.appear < available_time:\n",
    "        time_diff = available_time - p.appear\n",
    "        wait_time += time_diff.total_seconds()/3600 #get number of hours passenger has to wait for next driver to be available\n",
    "    \n",
    "    p.total_time += wait_time\n",
    "    time, _ = djikstras(d.current_node, p.source_node, dt, day_type, start_time)\n",
    "    pickup_time = time[p.source_node]\n",
    "    d.current_node = p.source_node\n",
    "    d.pickup_time += pickup_time\n",
    "    p.total_time += pickup_time\n",
    "    return d, pickup_time + wait_time"
   ]
  },
  {
   "cell_type": "code",
   "execution_count": null,
   "id": "7be76669",
   "metadata": {},
   "outputs": [],
   "source": [
    "def check_active(current_time, d):\n",
    "    if d.ride_time != 0:\n",
    "        max_active_time = timedelta(hours=8) #check if driver has been active for over 8 hours, reference passenger appear for current time\n",
    "        time_active = current_time - d.appear\n",
    "        \n",
    "        \n",
    "        probability = 0.0\n",
    "\n",
    "        if time_active >= max_active_time:\n",
    "            probability = 1.0\n",
    "\n",
    "        # Calculate probability based on hours active\n",
    "        else:\n",
    "            hours_active = time_active.total_seconds() / 3600  # Convert to hours\n",
    "            probability = hours_active / 8\n",
    "\n",
    "\n",
    "        if random.random() < probability:\n",
    "            with open('driver_order.txt', 'a') as file:\n",
    "                file.write(f\"Driver {d.idx}: exited the queue \\n\")\n",
    "            return False\n",
    "        else:\n",
    "            with open('driver_order.txt', 'a') as file:\n",
    "                file.write(f\"Driver {d.idx}: still in queue \\n\")\n",
    "            return True\n",
    "    else:\n",
    "        return True"
   ]
  },
  {
   "cell_type": "code",
   "execution_count": null,
   "id": "4358341a",
   "metadata": {},
   "outputs": [],
   "source": [
    "def ride():\n",
    "    '''\n",
    "    Main function for going through passenger and driver queues\n",
    "    '''\n",
    "    completed_passengers = []\n",
    "    completed_drivers = []\n",
    "    passenger_times = []\n",
    "    driver_profits = []\n",
    "    day_type = 'weekday'\n",
    "    start_time = passenger_q[0][0]\n",
    "    current_time = start_time\n",
    "    passenger_index = 0  # Track the passenger queue index\n",
    "    \n",
    "    \n",
    "    while passenger_index < len(passenger_q) and driver_q:\n",
    "        _, _, p = passenger_q[passenger_index]  #(datetime, id, passenger object)\n",
    "        \n",
    "        d, pickup_time = get_driver(p, p.appear, day_type, start_time)\n",
    "        current_time = current_time + timedelta(hours=pickup_time) #account for time to pickup\n",
    "     \n",
    "        time, parent = djikstras(p.source_node, p.dest_node, current_time, day_type, start_time)\n",
    "        ride_time = time[p.dest_node]\n",
    "        p.total_time += ride_time\n",
    "        completed_passengers.append(p)\n",
    "        passenger_times.append(p.total_time)\n",
    "        d.source_node = p.dest_node\n",
    "        d.source = p.dest\n",
    "        d.ride_time += ride_time\n",
    "        \n",
    "        if math.isfinite(p.total_time):\n",
    "            current_time = timedelta(hours=ride_time) + current_time\n",
    "        passenger_index += 1\n",
    "        if check_active(current_time, d):\n",
    "            heapq.heappush(driver_q, (current_time, d.idx, d))\n",
    "       \n",
    "        else:\n",
    "            completed_drivers.append(d)\n",
    "            driver_profits.append(d.get_profit())\n",
    "    \n",
    "    while driver_q:\n",
    "        _, _, d = heapq.heappop(driver_q)\n",
    "        completed_drivers.append(d)\n",
    "        driver_profits.append(d.get_profit())\n",
    "        \n",
    "    return completed_passengers, completed_drivers, passenger_times, driver_profits"
   ]
  },
  {
   "cell_type": "markdown",
   "id": "517673b8",
   "metadata": {},
   "source": [
    "# Classes (Driver, Passenger)"
   ]
  },
  {
   "cell_type": "code",
   "execution_count": null,
   "id": "641eb63d",
   "metadata": {},
   "outputs": [],
   "source": [
    "class driver:\n",
    "    def __init__(self, index, appear, source_lat, source_lon):\n",
    "        self.idx = index\n",
    "        self.appear = get_datetime(appear)\n",
    "        self.source = (source_lat, source_lon)\n",
    "        self.ride_time = 0 #total time logged driving passengers\n",
    "        self.pickup_time = 0 #total time logged driving to passengers\n",
    "        self.source_node = get_nearest_node(self.source[0], self.source[1])\n",
    "        self.current_node = self.source_node #update as performing routes\n",
    "\n",
    "    def get_profit(self):\n",
    "        self.profit = self.ride_time - self.pickup_time\n",
    "        return self.profit"
   ]
  },
  {
   "cell_type": "code",
   "execution_count": null,
   "id": "ebf026ce",
   "metadata": {},
   "outputs": [],
   "source": [
    "class passenger:\n",
    "    def __init__(self, index, appear, source_lat, source_lon, dest_lat, dest_lon):\n",
    "        self.idx = index\n",
    "        self.appear = get_datetime(appear)\n",
    "        self.source = (source_lat, source_lon)\n",
    "        self.dest = (dest_lat, dest_lon)\n",
    "        self.total_time = 0 #total time logged for passenger (time appear to time drop off)\n",
    "        self.source_node = get_nearest_node(self.source[0], self.source[1])\n",
    "        self.dest_node = get_nearest_node(self.dest[0], self.dest[1])"
   ]
  },
  {
   "cell_type": "markdown",
   "id": "e874425a",
   "metadata": {},
   "source": [
    "# Run Task 1"
   ]
  },
  {
   "cell_type": "code",
   "execution_count": null,
   "id": "af7f93c2",
   "metadata": {},
   "outputs": [],
   "source": [
    "# #set up passenger q, NOTE: EXTREMELY SLOW (???), LIMIT QUEUE SIZE TO 10 FOR TESTING\n",
    "# passenger_q = []\n",
    "# for index, row in passengers.iloc[:20,:].iterrows():\n",
    "#     p = passenger(row['Date/Time'], row['Source Lat'], row['Source Lon'], row['Dest Lat'], row['Dest Lon'])\n",
    "#     heapq.heappush(passenger_q, (p.appear, p))\n",
    "    \n",
    "# #set up driver q, NOTE: EXTREMELY SLOW (???), LIMIT QUEUE SIZE TO 10 FOR TESTING\n",
    "# driver_q = []\n",
    "# for index, row in drivers.iloc[:2,:].iterrows():\n",
    "#     d = driver(row['Date/Time'], row['Source Lat'], row['Source Lon'])\n",
    "#     heapq.heappush(driver_q, (d.appear, d))"
   ]
  },
  {
   "cell_type": "code",
   "execution_count": null,
   "id": "72434d93",
   "metadata": {},
   "outputs": [],
   "source": [
    "passenger_q = []\n",
    "\n",
    "with open(f'{cwd}/passengers.csv', 'r') as csvfile:\n",
    "    reader_variable = csv.reader(csvfile, delimiter=\",\")\n",
    "    first_line = csvfile.readline()\n",
    "    for index, row in enumerate(reader_variable):\n",
    "        p = passenger(index, row[0], float(row[1]), float(row[2]), float(row[3]), float(row[4]))\n",
    "        passenger_q.append((p.appear, p.idx, p))"
   ]
  },
  {
   "cell_type": "code",
   "execution_count": null,
   "metadata": {},
   "outputs": [],
   "source": [
    "file_path = 'passenger_brute_force.txt'\n",
    "\n",
    "with open(file_path, 'w') as file:\n",
    "    for passenger in passenger_q:\n",
    "        file.write('start: '+str(passenger[2].source_node) +'   dest: '+ str(passenger[2].dest_node) + '\\n')"
   ]
  },
  {
   "cell_type": "code",
   "execution_count": null,
   "id": "6ee1dde9",
   "metadata": {},
   "outputs": [],
   "source": [
    "driver_q = []\n",
    "\n",
    "with open(f'{cwd}/drivers.csv', 'r') as csvfile:\n",
    "    reader_variable = csv.reader(csvfile, delimiter=\",\")\n",
    "    first_line = csvfile.readline()\n",
    "    for index, row in enumerate(reader_variable):\n",
    "        d = driver(index, row[0], float(row[1]), float(row[2]))\n",
    "        driver_q.append((d.appear, d.idx, d))\n",
    "        \n",
    "heapq.heapify(driver_q)"
   ]
  },
  {
   "cell_type": "code",
   "execution_count": null,
   "id": "749e5d0c",
   "metadata": {},
   "outputs": [],
   "source": [
    "completed_passengers, completed_drivers, passenger_times, driver_profits = ride()"
   ]
  },
  {
   "cell_type": "code",
   "execution_count": null,
   "id": "3c1e27f3",
   "metadata": {},
   "outputs": [],
   "source": [
    "file_path = 'passenger_times.txt'\n",
    "\n",
    "# Open the file in write mode\n",
    "with open(file_path, 'w') as file:\n",
    "    # Write each value in passenger_times list to the file\n",
    "    for time in passenger_times:\n",
    "        file.write(str(time) + '\\n')\n",
    "\n",
    "file_path = 'driver_profits.txt'\n",
    "\n",
    "# Open the file in write mode\n",
    "with open(file_path, 'w') as file:\n",
    "    # Write each value in passenger_times list to the file\n",
    "    for profit in driver_profits:\n",
    "        file.write(str(profit) + '\\n')\n",
    "\n",
    "import numpy as np\n",
    "\n",
    "print('mean passenger times for t1: ',sum(passenger_times)/len(passenger_times))\n",
    "print('mean driver profit for t1',sum(driver_profits)/len(driver_profits))\n",
    "print('number of passengers worked t1', len(passenger_times))\n",
    "print('sanity check for number of drivers t1',len(driver_profits))\n",
    "print('stdev of passenger times t1',np.std(passenger_times))\n",
    "print('stdev of driver profits t1',np.std(driver_profits))"
   ]
  },
  {
   "cell_type": "markdown",
   "id": "4b9ca965",
   "metadata": {},
   "source": [
    "# Djikstra's Test\n",
    "Single passenger and single driver"
   ]
  },
  {
   "cell_type": "code",
   "execution_count": null,
   "id": "921aac4c",
   "metadata": {},
   "outputs": [],
   "source": [
    "#test passenger\n",
    "p1_test = passengers.iloc[0,:]\n",
    "p1 = passenger(p1_test['Date/Time'], p1_test['Source Lat'], p1_test['Source Lon'], p1_test['Dest Lat'], p1_test['Dest Lon'])\n",
    "print(vars(p1))"
   ]
  },
  {
   "cell_type": "code",
   "execution_count": null,
   "id": "69070ba2",
   "metadata": {},
   "outputs": [],
   "source": [
    "#test driver\n",
    "d1_test = drivers.iloc[0,:]\n",
    "d1 = driver(d1_test['Date/Time'], d1_test['Source Lat'], d1_test['Source Lon'])\n",
    "print(vars(d1))"
   ]
  },
  {
   "cell_type": "markdown",
   "id": "b150812f",
   "metadata": {},
   "source": [
    "https://docs.python.org/3/library/heapq.html\n",
    "Heapq --> PQ implementation\n",
    "\n",
    "https://builtin.com/software-engineering-perspectives/dijkstras-algorithm\n",
    "Djikstras with heapq as PQ implementation"
   ]
  },
  {
   "cell_type": "code",
   "execution_count": null,
   "id": "aef0e912",
   "metadata": {},
   "outputs": [],
   "source": [
    "time, parent = djikstras(p1.source_node, p1.dest_node)\n",
    "print('route time (hours):', time[p1.dest_node]) #get time from source to destination\n",
    "path = get_path(parent, p1.source_node, p1.dest_node) #retrieve path from parent dict\n",
    "path_coords = nodes_df[nodes_df.index.isin(path)] #retrieve path coordinates (to verify graphically)\n",
    "print('path trajectory:')\n",
    "print(path_coords.head(5))"
   ]
  },
  {
   "cell_type": "code",
   "execution_count": null,
   "id": "c57a1097",
   "metadata": {},
   "outputs": [],
   "source": [
    "#plot nodes and path coords\n",
    "plt.figure(figsize=(20, 20))\n",
    "sns.scatterplot(nodes_df, x='lon', y='lat', size=1, alpha=0.6, linewidth=0, label='node', color='grey')\n",
    "sns.lineplot(path_coords, x='lon', y='lat', color='red', alpha=1, label='path')\n",
    "plt.plot([p1.source[1]], [p1.source[0]], marker='*', color='orange', markersize=20, label='p source')\n",
    "plt.plot([d1.source[1]], [d1.source[0]], marker='^', color='orange', markersize=20, label='d source')\n",
    "plt.plot([p1.dest[1]], [p1.dest[0]], marker='*', color='blue', markersize=20, label='p dest')\n",
    "plt.legend()"
   ]
  }
 ],
 "metadata": {
  "kernelspec": {
   "display_name": "Python 3 (ipykernel)",
   "language": "python",
   "name": "python3"
  },
  "language_info": {
   "codemirror_mode": {
    "name": "ipython",
    "version": 3
   },
   "file_extension": ".py",
   "mimetype": "text/x-python",
   "name": "python",
   "nbconvert_exporter": "python",
   "pygments_lexer": "ipython3",
   "version": "3.11.0"
  }
 },
 "nbformat": 4,
 "nbformat_minor": 5
}
