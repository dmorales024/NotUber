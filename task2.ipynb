{
 "cells": [
  {
   "cell_type": "code",
   "execution_count": 1,
   "id": "9f05758d",
   "metadata": {},
   "outputs": [],
   "source": [
    "from datetime import datetime, timedelta\n",
    "import numpy as np\n",
    "import pandas as pd\n",
    "import json\n",
    "import os\n",
    "import math\n",
    "import heapq\n",
    "import seaborn as sns\n",
    "import matplotlib.pyplot as plt\n",
    "import csv\n",
    "\n",
    "import random"
   ]
  },
  {
   "cell_type": "code",
   "execution_count": 2,
   "id": "89a04837",
   "metadata": {},
   "outputs": [
    {
     "name": "stdout",
     "output_type": "stream",
     "text": [
      "/Users/m1m1024/Desktop/cs330/cs330-casestudy\n"
     ]
    }
   ],
   "source": [
    "cwd = os.getcwd()\n",
    "print(cwd)"
   ]
  },
  {
   "cell_type": "markdown",
   "id": "0b8c4876",
   "metadata": {},
   "source": [
    "# Load Data"
   ]
  },
  {
   "cell_type": "code",
   "execution_count": 3,
   "id": "44e59cd4",
   "metadata": {},
   "outputs": [],
   "source": [
    "with open(f'{cwd}/adjacency 2.json') as adjacency_f:\n",
    "    adjacency = json.load(adjacency_f)\n",
    "    \n",
    "with open(f'{cwd}/node_data.json') as node_f:\n",
    "    nodes = json.load(node_f)\n",
    "\n",
    "#nodes_df = pd.DataFrame(nodes).T"
   ]
  },
  {
   "cell_type": "markdown",
   "id": "31e78595",
   "metadata": {},
   "source": [
    "# Functions"
   ]
  },
  {
   "cell_type": "code",
   "execution_count": 4,
   "id": "0f71d539",
   "metadata": {},
   "outputs": [],
   "source": [
    "def haversine_distance(lat1, lon1, lat2, lon2):\n",
    "    '''\n",
    "    Haversine distance metric between two points\n",
    "    '''\n",
    "    \n",
    "    #earth radius in km\n",
    "    radius = 6371.0\n",
    "\n",
    "    #convert lat lon into radians from degress\n",
    "    lat1 = math.radians(lat1)\n",
    "    lon1 = math.radians(lon1)\n",
    "    lat2 = math.radians(lat2)\n",
    "    lon2 = math.radians(lon2)\n",
    "\n",
    "    #haversine from wikipedia\n",
    "    dlon = lon2 - lon1\n",
    "    dlat = lat2 - lat1\n",
    "    a = math.sin(dlat / 2)**2 + math.cos(lat1) * math.cos(lat2) * math.sin(dlon / 2)**2\n",
    "    c = 2 * math.atan2(math.sqrt(a), math.sqrt(1 - a))\n",
    "    distance = radius * c\n",
    "\n",
    "    return distance"
   ]
  },
  {
   "cell_type": "code",
   "execution_count": 5,
   "id": "5b027273",
   "metadata": {},
   "outputs": [],
   "source": [
    "def get_nearest_node(lat, lon):\n",
    "    '''\n",
    "    Find nearest node via Haversine distance\n",
    "    TODO: Find more efficient nearest node method, how account for time if very far from nearest node?\n",
    "    '''\n",
    "    min_dist = float('inf')\n",
    "    nearest_node = ''\n",
    "    for node in nodes:\n",
    "        dist = haversine_distance(nodes[node]['lat'], nodes[node]['lon'], lat, lon)\n",
    "        if dist < min_dist:\n",
    "            min_dist = dist\n",
    "            nearest_node = node\n",
    "    return nearest_node"
   ]
  },
  {
   "cell_type": "code",
   "execution_count": 6,
   "id": "4c19609d",
   "metadata": {},
   "outputs": [],
   "source": [
    "def get_datetime(time_string):\n",
    "    '''\n",
    "    Convert any datetime strings to datetime\n",
    "    '''\n",
    "    datetime_format = \"%m/%d/%Y %H:%M:%S\"\n",
    "    time = datetime.strptime(time_string, datetime_format)\n",
    "    return time"
   ]
  },
  {
   "cell_type": "code",
   "execution_count": 7,
   "id": "9ef966a1",
   "metadata": {},
   "outputs": [],
   "source": [
    "def djikstras(source, dest, dt, day_type):\n",
    "    '''\n",
    "    Djikstra's algorithm\n",
    "    Returns: dict of minimum distances to nodes and dict of node parents\n",
    "    '''\n",
    "    distance = {} #distances to each node\n",
    "    parent = {} #\n",
    "   # print(\"datetime \", dt)\n",
    "    hour = dt.hour\n",
    "#     print(\"source \", source)\n",
    "#     print(\"dest \", dest)\n",
    " \n",
    "    \n",
    "    #initialize all distances to infinity\n",
    "    for node in nodes:\n",
    "        distance[node] = float('inf')\n",
    "    distance[source] = 0\n",
    "    pq = [(0, source)]\n",
    "    while pq:\n",
    "        node_dist, node = heapq.heappop(pq)\n",
    "        if node == dest: #early stopping\n",
    "            break\n",
    "        if node in adjacency:\n",
    "            for neighbor in adjacency[node]:\n",
    "                for edge in adjacency[node][neighbor]:\n",
    "                    if edge['hour'] == hour and edge['day_type'] == day_type:\n",
    "                        edge_dist = edge['time']\n",
    "                        if distance[neighbor] > node_dist + edge_dist:\n",
    "                            #print(\"edge dist \", edge_dist)\n",
    "                           # print(\"node dist \", node_dist)\n",
    "                            distance[neighbor] = node_dist + edge_dist\n",
    "                           # print(distance[neighbor])\n",
    "                            parent[neighbor] = node\n",
    "                            heapq.heappush(pq, (distance[neighbor], neighbor))\n",
    "    return distance, parent"
   ]
  },
  {
   "cell_type": "code",
   "execution_count": 8,
   "id": "b9aa06db",
   "metadata": {},
   "outputs": [],
   "source": [
    "def get_path(parent, source_node, dest_node):\n",
    "    '''\n",
    "    Recover path using list of node parents, start at destination and end at source\n",
    "    Returns: list of nodes in path (reverse order)\n",
    "    '''\n",
    "    path = [dest_node]\n",
    "    current_node = dest_node\n",
    "    while current_node != source_node:\n",
    "        path.append(parent[current_node])\n",
    "        current_node = parent[current_node]\n",
    "    return path"
   ]
  },
  {
   "cell_type": "code",
   "execution_count": 9,
   "id": "d746b8a2",
   "metadata": {},
   "outputs": [],
   "source": [
    "def get_driver(p, dt, day_type, start_time):\n",
    "    '''\n",
    "    Get the next driver from the driver PQ (Task 3 based on estimated time)\n",
    "    Update relevant driver and passenger variables and get the time to traverse from driver location to passenger pickup\n",
    "    Returns: Driver match\n",
    "    '''\n",
    "    p.total_time = 0\n",
    "    d_match_tuple = None #(driver available, id, driver object)\n",
    "    d_match = None #driver\n",
    "    min_dist = float('inf')\n",
    "    availablesize = 0\n",
    "    all_potential_candidates = []\n",
    "    \n",
    "    while driver_q:\n",
    "        d_candidate = heapq.heappop(driver_q) #(datetime, id, driver object)\n",
    "        d_time, idx, d = d_candidate\n",
    "        if d_time <= start_time: #is available\n",
    "            availablesize += 1\n",
    "            if check_active(start_time, d): #driver active or been sitting for too long\n",
    "                dist = haversine_distance(nodes[d.current_node]['lat'], nodes[d.current_node]['lon'], p.source[0], p.source[1])\n",
    "                if dist < min_dist: #if better match\n",
    "                    min_dist = dist\n",
    "                    if d_match_tuple:\n",
    "                        all_potential_candidates.append(d_match_tuple)\n",
    "                        # heapq.heappush(driver_q, d_match_tuple) #put current match back into q\n",
    "                    d_match = d\n",
    "                    d_match_tuple = d_candidate\n",
    "                else:\n",
    "                    all_potential_candidates.append(d_candidate)\n",
    "                    # heapq.heappush(driver_q, d_candidate) #not a better match, put back in q\n",
    "            else:\n",
    "                completed_drivers.append(d)\n",
    "                driver_profits.append(d.get_profit())\n",
    "        else:\n",
    "            #push back to heap since not actually available yet\n",
    "            heapq.heappush(driver_q, (d_time, d.idx, d))\n",
    "            break\n",
    "\n",
    "\n",
    "    for i in range(len(all_potential_candidates)):\n",
    "           heapq.heappush(driver_q, all_potential_candidates[i])\n",
    "    \n",
    "\n",
    "    wait_time = 0\n",
    "    if d_match is None and driver_q: #check if no match found (no drivers available), choose next available\n",
    "        available_time, idx, d_match = heapq.heappop(driver_q) #(datetime, id, driver object) \n",
    "        time_diff = available_time - p.appear\n",
    "        wait_time = time_diff.total_seconds()/3600 #get number of hours passenger has to wait for next driver to be available\n",
    "\n",
    "    with open('driver_order2.txt', 'a') as file:\n",
    "            file.write(f\"Driver {d_match.idx}: matched with passenger {p.idx} and available driver # is {availablesize} \\n\")\n",
    "\n",
    "        \n",
    "    time, _ = djikstras(d_match.current_node, p.source_node, p.appear, day_type)\n",
    "    pickup_time = time[p.source_node]\n",
    "    p.total_time += wait_time\n",
    "    d_match.current_node = p.source_node\n",
    "    d_match.pickup_time += pickup_time\n",
    "    p.total_time += pickup_time\n",
    "    with open('pwaittime2.txt', 'a') as file:\n",
    "        file.write(f\"passenger {p.idx}: waiting {p.total_time} \\n\")\n",
    "    return d_match, pickup_time + wait_time"
   ]
  },
  {
   "cell_type": "code",
   "execution_count": 10,
   "id": "7be76669",
   "metadata": {},
   "outputs": [],
   "source": [
    "def check_active(current_time, d):\n",
    "    if d.ride_time != 0:\n",
    "        max_active_time = timedelta(hours=8) #check if driver has been active for over 8 hours, reference passenger appear for current time\n",
    "        time_active = current_time - d.appear\n",
    "        \n",
    "        \n",
    "        probability = 0.0\n",
    "\n",
    "        if time_active >= max_active_time:\n",
    "            probability = 1.0\n",
    "\n",
    "        # Calculate probability based on hours active\n",
    "        else:\n",
    "            hours_active = time_active.total_seconds() / 3600  # Convert to hours\n",
    "            probability = hours_active / 8\n",
    "\n",
    "\n",
    "        if random.random() < probability:\n",
    "            with open('driver_order2.txt', 'a') as file:\n",
    "                file.write(f\"Driver {d.idx}: exited the queue \\n\")\n",
    "            return False\n",
    "        else:\n",
    "            with open('driver_order2.txt', 'a') as file:\n",
    "                file.write(f\"Driver {d.idx}: still in queue \\n\")\n",
    "            return True\n",
    "    else:\n",
    "        return True"
   ]
  },
  {
   "cell_type": "code",
   "execution_count": 11,
   "id": "4358341a",
   "metadata": {},
   "outputs": [],
   "source": [
    "def ride():\n",
    "    '''\n",
    "    Main function for going through passenger and driver queues\n",
    "    '''\n",
    "\n",
    "    global passenger_index\n",
    "    global day_type\n",
    "    global pass_time\n",
    "    global current_time\n",
    "    \n",
    "    while passenger_index < len(passenger_q) and driver_q:\n",
    "        _, _, p = passenger_q[passenger_index]  #(datetime, id, passenger object)\n",
    "        \n",
    "        d, pickup_time = get_driver(p, p.appear, day_type, pass_time)\n",
    "        current_time = p.appear + timedelta(hours=pickup_time) #account for time to pickup\n",
    "        pass_time = d.appear + timedelta(hours=pickup_time) #account for time to pickup\n",
    "\n",
    "        \n",
    "        time, parent = djikstras(p.source_node, p.dest_node, current_time, day_type)\n",
    "        ride_time = time[p.dest_node]\n",
    "        p.total_time += ride_time\n",
    "        completed_passengers.append(p)\n",
    "        passenger_times.append(p.total_time)\n",
    "        d.source_node = p.dest_node\n",
    "        d.source = p.dest\n",
    "        d.ride_time += ride_time\n",
    "        \n",
    "        if math.isfinite(p.total_time):\n",
    "            current_time = timedelta(hours=ride_time) + current_time\n",
    "        passenger_index += 1\n",
    "        if check_active(current_time, d):\n",
    "            heapq.heappush(driver_q, (current_time, d.idx, d))       \n",
    "        else:\n",
    "            completed_drivers.append(d)\n",
    "            driver_profits.append(d.get_profit())\n",
    "    \n",
    "    while driver_q:\n",
    "        _, _, d = heapq.heappop(driver_q)\n",
    "        completed_drivers.append(d)\n",
    "        driver_profits.append(d.get_profit())\n",
    "        \n",
    "    return completed_passengers, completed_drivers, passenger_times, driver_profits"
   ]
  },
  {
   "cell_type": "markdown",
   "id": "517673b8",
   "metadata": {},
   "source": [
    "# Classes (Driver, Passenger)"
   ]
  },
  {
   "cell_type": "code",
   "execution_count": 12,
   "id": "641eb63d",
   "metadata": {},
   "outputs": [],
   "source": [
    "class driver:\n",
    "    def __init__(self, index, appear, source_lat, source_lon):\n",
    "        self.idx = index\n",
    "        self.appear = get_datetime(appear)\n",
    "        self.source = (source_lat, source_lon)\n",
    "        self.ride_time = 0 #total time logged driving passengers\n",
    "        self.pickup_time = 0 #total time logged driving to passengers\n",
    "        self.source_node = get_nearest_node(self.source[0], self.source[1])\n",
    "        self.current_node = self.source_node #update as performing routes\n",
    "\n",
    "    def get_profit(self):\n",
    "        self.profit = self.ride_time - self.pickup_time\n",
    "        return self.profit"
   ]
  },
  {
   "cell_type": "code",
   "execution_count": 13,
   "id": "ebf026ce",
   "metadata": {},
   "outputs": [],
   "source": [
    "class passenger:\n",
    "    def __init__(self, index, appear, source_lat, source_lon, dest_lat, dest_lon):\n",
    "        self.idx = index\n",
    "        self.appear = get_datetime(appear)\n",
    "        self.source = (source_lat, source_lon)\n",
    "        self.dest = (dest_lat, dest_lon)\n",
    "        self.total_time = 0 #total time logged for passenger (time appear to time drop off)\n",
    "        self.source_node = get_nearest_node(self.source[0], self.source[1])\n",
    "        self.dest_node = get_nearest_node(self.dest[0], self.dest[1])"
   ]
  },
  {
   "cell_type": "markdown",
   "id": "e874425a",
   "metadata": {},
   "source": [
    "# Run Task 2"
   ]
  },
  {
   "cell_type": "code",
   "execution_count": 15,
   "id": "72434d93",
   "metadata": {},
   "outputs": [],
   "source": [
    "passenger_q = []\n",
    "\n",
    "with open(f'{cwd}/passengers.csv', 'r') as csvfile:\n",
    "    reader_variable = csv.reader(csvfile, delimiter=\",\")\n",
    "    first_line = csvfile.readline()\n",
    "    for index, row in enumerate(reader_variable):\n",
    "        p = passenger(index, row[0], float(row[1]), float(row[2]), float(row[3]), float(row[4]))\n",
    "        passenger_q.append((p.appear, p.idx, p))"
   ]
  },
  {
   "cell_type": "code",
   "execution_count": 16,
   "id": "6ee1dde9",
   "metadata": {},
   "outputs": [],
   "source": [
    "driver_q = []\n",
    "\n",
    "with open(f'{cwd}/drivers.csv', 'r') as csvfile:\n",
    "    reader_variable = csv.reader(csvfile, delimiter=\",\")\n",
    "    first_line = csvfile.readline()\n",
    "    for index, row in enumerate(reader_variable):\n",
    "        d = driver(index, row[0], float(row[1]), float(row[2]))\n",
    "        driver_q.append((d.appear, d.idx, d))\n",
    "        \n",
    "heapq.heapify(driver_q)"
   ]
  },
  {
   "cell_type": "code",
   "execution_count": 17,
   "id": "749e5d0c",
   "metadata": {},
   "outputs": [
    {
     "ename": "AttributeError",
     "evalue": "'NoneType' object has no attribute 'idx'",
     "output_type": "error",
     "traceback": [
      "\u001b[0;31m---------------------------------------------------------------------------\u001b[0m",
      "\u001b[0;31mAttributeError\u001b[0m                            Traceback (most recent call last)",
      "\u001b[1;32m/Users/m1m1024/Desktop/cs330/cs330-casestudy/task2.ipynb Cell 20\u001b[0m line \u001b[0;36m1\n\u001b[1;32m      <a href='vscode-notebook-cell:/Users/m1m1024/Desktop/cs330/cs330-casestudy/task2.ipynb#X25sZmlsZQ%3D%3D?line=7'>8</a>\u001b[0m pass_time \u001b[39m=\u001b[39m start_time\n\u001b[1;32m      <a href='vscode-notebook-cell:/Users/m1m1024/Desktop/cs330/cs330-casestudy/task2.ipynb#X25sZmlsZQ%3D%3D?line=8'>9</a>\u001b[0m passenger_index \u001b[39m=\u001b[39m \u001b[39m0\u001b[39m  \u001b[39m# Track the passenger queue index\u001b[39;00m\n\u001b[0;32m---> <a href='vscode-notebook-cell:/Users/m1m1024/Desktop/cs330/cs330-casestudy/task2.ipynb#X25sZmlsZQ%3D%3D?line=10'>11</a>\u001b[0m completed_passengers, completed_drivers, passenger_times, driver_profits \u001b[39m=\u001b[39m ride()\n",
      "\u001b[1;32m/Users/m1m1024/Desktop/cs330/cs330-casestudy/task2.ipynb Cell 20\u001b[0m line \u001b[0;36m1\n\u001b[1;32m     <a href='vscode-notebook-cell:/Users/m1m1024/Desktop/cs330/cs330-casestudy/task2.ipynb#X25sZmlsZQ%3D%3D?line=10'>11</a>\u001b[0m \u001b[39mwhile\u001b[39;00m passenger_index \u001b[39m<\u001b[39m \u001b[39mlen\u001b[39m(passenger_q) \u001b[39mand\u001b[39;00m driver_q:\n\u001b[1;32m     <a href='vscode-notebook-cell:/Users/m1m1024/Desktop/cs330/cs330-casestudy/task2.ipynb#X25sZmlsZQ%3D%3D?line=11'>12</a>\u001b[0m     _, _, p \u001b[39m=\u001b[39m passenger_q[passenger_index]  \u001b[39m#(datetime, id, passenger object)\u001b[39;00m\n\u001b[0;32m---> <a href='vscode-notebook-cell:/Users/m1m1024/Desktop/cs330/cs330-casestudy/task2.ipynb#X25sZmlsZQ%3D%3D?line=13'>14</a>\u001b[0m     d, pickup_time \u001b[39m=\u001b[39m get_driver(p, p\u001b[39m.\u001b[39;49mappear, day_type, pass_time)\n\u001b[1;32m     <a href='vscode-notebook-cell:/Users/m1m1024/Desktop/cs330/cs330-casestudy/task2.ipynb#X25sZmlsZQ%3D%3D?line=14'>15</a>\u001b[0m     current_time \u001b[39m=\u001b[39m p\u001b[39m.\u001b[39mappear \u001b[39m+\u001b[39m timedelta(hours\u001b[39m=\u001b[39mpickup_time) \u001b[39m#account for time to pickup\u001b[39;00m\n\u001b[1;32m     <a href='vscode-notebook-cell:/Users/m1m1024/Desktop/cs330/cs330-casestudy/task2.ipynb#X25sZmlsZQ%3D%3D?line=15'>16</a>\u001b[0m     pass_time \u001b[39m=\u001b[39m d\u001b[39m.\u001b[39mappear \u001b[39m+\u001b[39m timedelta(hours\u001b[39m=\u001b[39mpickup_time) \u001b[39m#account for time to pickup\u001b[39;00m\n",
      "\u001b[1;32m/Users/m1m1024/Desktop/cs330/cs330-casestudy/task2.ipynb Cell 20\u001b[0m line \u001b[0;36m7\n\u001b[1;32m     <a href='vscode-notebook-cell:/Users/m1m1024/Desktop/cs330/cs330-casestudy/task2.ipynb#X25sZmlsZQ%3D%3D?line=71'>72</a>\u001b[0m     wait_time \u001b[39m=\u001b[39m time_diff\u001b[39m.\u001b[39mtotal_seconds()\u001b[39m/\u001b[39m\u001b[39m3600\u001b[39m \u001b[39m#get number of hours passenger has to wait for next driver to be available\u001b[39;00m\n\u001b[1;32m     <a href='vscode-notebook-cell:/Users/m1m1024/Desktop/cs330/cs330-casestudy/task2.ipynb#X25sZmlsZQ%3D%3D?line=73'>74</a>\u001b[0m \u001b[39mwith\u001b[39;00m \u001b[39mopen\u001b[39m(\u001b[39m'\u001b[39m\u001b[39mdriver_order2.txt\u001b[39m\u001b[39m'\u001b[39m, \u001b[39m'\u001b[39m\u001b[39ma\u001b[39m\u001b[39m'\u001b[39m) \u001b[39mas\u001b[39;00m file:\n\u001b[0;32m---> <a href='vscode-notebook-cell:/Users/m1m1024/Desktop/cs330/cs330-casestudy/task2.ipynb#X25sZmlsZQ%3D%3D?line=74'>75</a>\u001b[0m         file\u001b[39m.\u001b[39mwrite(\u001b[39mf\u001b[39m\u001b[39m\"\u001b[39m\u001b[39mDriver \u001b[39m\u001b[39m{\u001b[39;00md_match\u001b[39m.\u001b[39;49midx\u001b[39m}\u001b[39;00m\u001b[39m: matched with passenger \u001b[39m\u001b[39m{\u001b[39;00mp\u001b[39m.\u001b[39midx\u001b[39m}\u001b[39;00m\u001b[39m and available driver # is \u001b[39m\u001b[39m{\u001b[39;00mavailablesize\u001b[39m}\u001b[39;00m\u001b[39m \u001b[39m\u001b[39m\\n\u001b[39;00m\u001b[39m\"\u001b[39m)\n\u001b[1;32m     <a href='vscode-notebook-cell:/Users/m1m1024/Desktop/cs330/cs330-casestudy/task2.ipynb#X25sZmlsZQ%3D%3D?line=77'>78</a>\u001b[0m time, _ \u001b[39m=\u001b[39m djikstras(d_match\u001b[39m.\u001b[39mcurrent_node, p\u001b[39m.\u001b[39msource_node, p\u001b[39m.\u001b[39mappear, day_type)\n\u001b[1;32m     <a href='vscode-notebook-cell:/Users/m1m1024/Desktop/cs330/cs330-casestudy/task2.ipynb#X25sZmlsZQ%3D%3D?line=78'>79</a>\u001b[0m pickup_time \u001b[39m=\u001b[39m time[p\u001b[39m.\u001b[39msource_node]\n",
      "\u001b[0;31mAttributeError\u001b[0m: 'NoneType' object has no attribute 'idx'"
     ]
    }
   ],
   "source": [
    "completed_passengers = []\n",
    "completed_drivers = []\n",
    "passenger_times = []\n",
    "driver_profits = []\n",
    "day_type = 'weekday'\n",
    "start_time = passenger_q[0][0]\n",
    "current_time = start_time\n",
    "pass_time = start_time\n",
    "passenger_index = 0  # Track the passenger queue index\n",
    "\n",
    "completed_passengers, completed_drivers, passenger_times, driver_profits = ride()"
   ]
  },
  {
   "cell_type": "code",
   "execution_count": 19,
   "id": "dd9956aa",
   "metadata": {},
   "outputs": [
    {
     "name": "stdout",
     "output_type": "stream",
     "text": [
      "mean passenger times for t2:  20.52793641086843\n",
      "mean driver profit for t2 61.611884094860784\n",
      "number of passengers worked t2 4407\n",
      "sanity check for number of drivers t2 499\n",
      "stdev of passenger times t2 0.29865533731017757\n",
      "stdev of driver profits t2 1.1151573921893256\n"
     ]
    }
   ],
   "source": [
    "print('mean passenger times for t2: ',sum(passenger_times)*60/len(passenger_times))\n",
    "print('mean driver profit for t2',sum(driver_profits)*60/len(driver_profits))\n",
    "print('number of passengers worked t2', len(passenger_times))\n",
    "print('sanity check for number of drivers t2',len(driver_profits))\n",
    "print('stdev of passenger times t2',np.std(passenger_times))\n",
    "print('stdev of driver profits t2',np.std(driver_profits))"
   ]
  },
  {
   "cell_type": "code",
   "execution_count": null,
   "id": "3c1e27f3",
   "metadata": {},
   "outputs": [],
   "source": [
    "file_path = 'passenger_times2.txt'\n",
    "\n",
    "# Open the file in write mode\n",
    "with open(file_path, 'w') as file:\n",
    "    # Write each value in passenger_times list to the file\n",
    "    for time in passenger_times:\n",
    "        file.write(str(time) + '\\n')"
   ]
  },
  {
   "cell_type": "code",
   "execution_count": null,
   "id": "1256c55d",
   "metadata": {},
   "outputs": [],
   "source": [
    "file_path = 'driver_profits2.txt'\n",
    "\n",
    "# Open the file in write mode\n",
    "with open(file_path, 'w') as file:\n",
    "    # Write each value in passenger_times list to the file\n",
    "    for profit in driver_profits:\n",
    "        file.write(str(profit) + '\\n')"
   ]
  },
  {
   "cell_type": "code",
   "execution_count": 20,
   "metadata": {},
   "outputs": [
    {
     "data": {
      "text/plain": [
       "<Axes: ylabel='Count'>"
      ]
     },
     "execution_count": 20,
     "metadata": {},
     "output_type": "execute_result"
    },
    {
     "data": {
      "image/png": "[encoded data removed]",
      "text/plain": [
       "<Figure size 640x480 with 1 Axes>"
      ]
     },
     "metadata": {},
     "output_type": "display_data"
    }
   ],
   "source": [
    "sns.histplot(passenger_times)"
   ]
  },
  {
   "cell_type": "markdown",
   "id": "4b9ca965",
   "metadata": {},
   "source": [
    "# Djikstra's Test\n",
    "Single passenger and single driver"
   ]
  },
  {
   "cell_type": "code",
   "execution_count": null,
   "id": "51ecd121",
   "metadata": {},
   "outputs": [],
   "source": [
    "nodes_df = pd.DataFrame(nodes).T\n",
    "nodes_df.head()"
   ]
  },
  {
   "cell_type": "code",
   "execution_count": null,
   "id": "921aac4c",
   "metadata": {},
   "outputs": [],
   "source": [
    "#test passenger\n",
    "with open(f'{cwd}/passengers.csv', 'r') as csvfile:\n",
    "    reader_variable = csv.reader(csvfile, delimiter=\",\")\n",
    "    first_line = csvfile.readline()\n",
    "    for index, row in enumerate(reader_variable):\n",
    "        if index > 0:\n",
    "            break\n",
    "        p1 = passenger(index, row[0], float(row[1]), float(row[2]), float(row[3]), float(row[4]))\n",
    "\n",
    "print(vars(p1))"
   ]
  },
  {
   "cell_type": "code",
   "execution_count": null,
   "id": "69070ba2",
   "metadata": {},
   "outputs": [],
   "source": [
    "#test driver\n",
    "with open(f'{cwd}/drivers.csv', 'r') as csvfile:\n",
    "    reader_variable = csv.reader(csvfile, delimiter=\",\")\n",
    "    first_line = csvfile.readline()\n",
    "    for index, row in enumerate(reader_variable):\n",
    "        if index > 0:\n",
    "            break\n",
    "        d1 = driver(index, row[0], float(row[1]), float(row[2]))\n",
    "\n",
    "print(vars(d1))"
   ]
  },
  {
   "cell_type": "code",
   "execution_count": null,
   "id": "aef0e912",
   "metadata": {},
   "outputs": [],
   "source": [
    "print('wait time (hours)', (d1.appear-p1.appear).total_seconds()/3600)\n",
    "print(d1.appear)\n",
    "pickup_times, pickup_parent = djikstras(d1.source_node, p1.source_node, p1.appear, 'weekday', p1.appear)\n",
    "pickup_time = pickup_times[p1.source_node]\n",
    "print('pickup time (hours):', pickup_time) #get time from source to destination\n",
    "pickup_path = get_path(pickup_parent, d1.source_node, p1.source_node) #retrieve path from parent dict\n",
    "pickup_path_coords = nodes_df[nodes_df.index.isin(pickup_path)] #retrieve path coordinates (to verify graphically)\n",
    "print('pickup path trajectory:')\n",
    "print(pickup_path_coords.head(5))\n",
    "current_time = p1.appear + timedelta(hours=pickup_time)\n",
    "d1.pickup_time += pickup_time\n",
    "\n",
    "time, parent = djikstras(p1.source_node, p1.dest_node, current_time, 'weekday', current_time)\n",
    "print('route time (hours):', time[p1.dest_node]) #get time from source to destination\n",
    "path = get_path(parent, p1.source_node, p1.dest_node) #retrieve path from parent dict\n",
    "path_coords = nodes_df[nodes_df.index.isin(path)] #retrieve path coordinates (to verify graphically)\n",
    "print('path trajectory:')\n",
    "d1.ride_time = time[p1.dest_node]\n",
    "print(path_coords.head(5))"
   ]
  },
  {
   "cell_type": "code",
   "execution_count": null,
   "id": "4c97ad9b",
   "metadata": {},
   "outputs": [],
   "source": [
    "d1.get_profit()"
   ]
  },
  {
   "cell_type": "code",
   "execution_count": null,
   "id": "c57a1097",
   "metadata": {},
   "outputs": [],
   "source": [
    "#plot nodes and path coords\n",
    "plt.figure(figsize=(20, 20))\n",
    "sns.scatterplot(nodes_df, x='lon', y='lat', size=1, alpha=0.6, linewidth=0, label='node', color='grey')\n",
    "sns.lineplot(path_coords, x='lon', y='lat', color='red', alpha=1, label='ride path', lw=3)\n",
    "sns.lineplot(pickup_path_coords, x='lon', y='lat', color='blue', alpha=1, label='pickup path', lw=3)\n",
    "#plt.plot([p1.source[1]], [p1.source[0]], marker='*', color='orange', markersize=20, label='p source')\n",
    "#plt.plot([d1.source[1]], [d1.source[0]], marker='^', color='orange', markersize=20, label='d source')\n",
    "# plt.plot([p1.dest[1]], [p1.dest[0]], marker='*', color='blue', markersize=20, label='p dest')\n",
    "plt.legend()"
   ]
  },
  {
   "cell_type": "code",
   "execution_count": null,
   "id": "45b82e54",
   "metadata": {},
   "outputs": [],
   "source": []
  }
 ],
 "metadata": {
  "kernelspec": {
   "display_name": "Python 3 (ipykernel)",
   "language": "python",
   "name": "python3"
  },
  "language_info": {
   "codemirror_mode": {
    "name": "ipython",
    "version": 3
   },
   "file_extension": ".py",
   "mimetype": "text/x-python",
   "name": "python",
   "nbconvert_exporter": "python",
   "pygments_lexer": "ipython3",
   "version": "3.11.0"
  }
 },
 "nbformat": 4,
 "nbformat_minor": 5
}
