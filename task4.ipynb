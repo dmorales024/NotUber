{
 "cells": [
  {
   "cell_type": "code",
   "execution_count": 1,
   "id": "9f05758d",
   "metadata": {},
   "outputs": [],
   "source": [
    "from datetime import datetime, timedelta\n",
    "import numpy as np\n",
    "import pandas as pd\n",
    "import json\n",
    "import os\n",
    "import math\n",
    "import heapq\n",
    "import seaborn as sns\n",
    "import matplotlib.pyplot as plt\n",
    "import csv\n",
    "\n",
    "import random"
   ]
  },
  {
   "cell_type": "code",
   "execution_count": 2,
   "id": "89a04837",
   "metadata": {},
   "outputs": [
    {
     "name": "stdout",
     "output_type": "stream",
     "text": [
      "/Users/m1m1024/Desktop/cs330/cs330-casestudy\n"
     ]
    }
   ],
   "source": [
    "cwd = os.getcwd()\n",
    "print(cwd)"
   ]
  },
  {
   "cell_type": "markdown",
   "id": "0b8c4876",
   "metadata": {},
   "source": [
    "# Load Data"
   ]
  },
  {
   "cell_type": "code",
   "execution_count": 3,
   "id": "44e59cd4",
   "metadata": {},
   "outputs": [],
   "source": [
    "with open(f'{cwd}/adjacency 2.json') as adjacency_f:\n",
    "    adjacency = json.load(adjacency_f)\n",
    "    \n",
    "with open(f'{cwd}/node_data.json') as node_f:\n",
    "    nodes = json.load(node_f)"
   ]
  },
  {
   "cell_type": "markdown",
   "id": "31e78595",
   "metadata": {},
   "source": [
    "# Functions"
   ]
  },
  {
   "cell_type": "code",
   "execution_count": 4,
   "id": "0f71d539",
   "metadata": {},
   "outputs": [],
   "source": [
    "def haversine_distance(lat1, lon1, lat2, lon2):\n",
    "    '''\n",
    "    Haversine distance metric between two points\n",
    "    '''\n",
    "    \n",
    "    #earth radius in km\n",
    "    radius = 6371.0\n",
    "\n",
    "    #convert lat lon into radians from degress\n",
    "    lat1 = math.radians(lat1)\n",
    "    lon1 = math.radians(lon1)\n",
    "    lat2 = math.radians(lat2)\n",
    "    lon2 = math.radians(lon2)\n",
    "\n",
    "    #haversine from wikipedia\n",
    "    dlon = lon2 - lon1\n",
    "    dlat = lat2 - lat1\n",
    "    a = math.sin(dlat / 2)**2 + math.cos(lat1) * math.cos(lat2) * math.sin(dlon / 2)**2\n",
    "    c = 2 * math.atan2(math.sqrt(a), math.sqrt(1 - a))\n",
    "    distance = radius * c\n",
    "\n",
    "    return distance"
   ]
  },
  {
   "cell_type": "code",
   "execution_count": 5,
   "id": "1b106d87",
   "metadata": {},
   "outputs": [],
   "source": [
    "class Node:\n",
    "    def __init__(self, point, left=None, right=None):\n",
    "        self.point = point\n",
    "        self.left = left\n",
    "        self.right = right\n",
    "\n",
    "class KDTree:\n",
    "    def __init__(self, points):\n",
    "        self.root = self._build_kdtree(points)\n",
    "\n",
    "    def _build_kdtree(self, points, depth=0):\n",
    "        if not points:\n",
    "            return None\n",
    "\n",
    "        axis = depth % 2  # 2 dimensions (alternating between latitude and longitude)\n",
    "\n",
    "        sorted_points = sorted(points, key=lambda point: point[axis])\n",
    "        median = len(sorted_points) // 2\n",
    "\n",
    "        return Node(\n",
    "            sorted_points[median],\n",
    "            self._build_kdtree(sorted_points[:median], depth + 1),\n",
    "            self._build_kdtree(sorted_points[median + 1 :], depth + 1),\n",
    "        )\n",
    "\n",
    "    def find_nearest(self, target):\n",
    "        best = [None, float(\"inf\")]\n",
    "\n",
    "        def search(node, depth=0):\n",
    "            if node is None:\n",
    "                return\n",
    "\n",
    "            axis = depth % 2\n",
    "            current_point = node.point\n",
    "            distance = haversine_distance(current_point[0], current_point[1], target[0], target[1])\n",
    "\n",
    "            if distance < best[1]:\n",
    "                best[0] = current_point\n",
    "                best[1] = distance\n",
    "\n",
    "            if target[axis] < current_point[axis]:\n",
    "                search(node.left, depth + 1)\n",
    "            else:\n",
    "                search(node.right, depth + 1)\n",
    "\n",
    "            other_side = abs(target[axis] - current_point[axis])\n",
    "            if other_side < best[1]:\n",
    "                if target[axis] < current_point[axis]:\n",
    "                    search(node.right, depth + 1)\n",
    "                else:\n",
    "                    search(node.left, depth + 1)\n",
    "\n",
    "        search(self.root)\n",
    "        return best[0]\n",
    "\n",
    "coordinates = [(node_info['lat'], node_info['lon']) for node_info in nodes.values()]\n",
    "coordinate_to_key = {coord: key for key, coord in zip(nodes.keys(), coordinates)}\n",
    "kdtree = KDTree(coordinates)\n"
   ]
  },
  {
   "cell_type": "code",
   "execution_count": 6,
   "id": "4c19609d",
   "metadata": {},
   "outputs": [],
   "source": [
    "def get_datetime(time_string):\n",
    "    '''\n",
    "    Convert any datetime strings to datetime\n",
    "    '''\n",
    "    datetime_format = \"%m/%d/%Y %H:%M:%S\"\n",
    "    time = datetime.strptime(time_string, datetime_format)\n",
    "    return time"
   ]
  },
  {
   "cell_type": "code",
   "execution_count": 7,
   "id": "9ef966a1",
   "metadata": {},
   "outputs": [],
   "source": [
    "def heuristic_estimate(source, dest):\n",
    "    return haversine_distance(source['lat'], source['lon'], dest['lat'], dest['lon'])"
   ]
  },
  {
   "cell_type": "code",
   "execution_count": 8,
   "id": "609c5df0",
   "metadata": {},
   "outputs": [],
   "source": [
    "def a_star(source, dest, dt, day_type):\n",
    "    '''\n",
    "    A* search algorithm\n",
    "    Returns: dict of minimum distances to nodes and dict of node parents\n",
    "    '''\n",
    "\n",
    "    distance = {}\n",
    "    parent = {}\n",
    "    hour = dt.hour\n",
    "\n",
    "    for node in nodes:\n",
    "        distance[node] = float('inf')\n",
    "    distance[source] = 0\n",
    "    pq = [(heuristic_estimate(nodes[source], nodes[dest]), 0, source)] #pq with (priority, actual cost, node)\n",
    "    \n",
    "    while pq:\n",
    "        _, node_dist, node = heapq.heappop(pq)\n",
    "        if node == dest:\n",
    "            break\n",
    "        if node in adjacency:\n",
    "            for neighbor in adjacency[node]:\n",
    "                for edge in adjacency[node][neighbor]:\n",
    "                    if edge['hour'] == hour and edge['day_type'] == day_type:\n",
    "                        edge_dist = edge['time']\n",
    "                        if distance[neighbor] > node_dist + edge_dist:\n",
    "                            distance[neighbor] = node_dist + edge_dist\n",
    "                            parent[neighbor] = node\n",
    "                            priority = distance[neighbor] + heuristic_estimate(nodes[neighbor], nodes[dest])/20\n",
    "                            heapq.heappush(pq, (priority, distance[neighbor], neighbor))\n",
    "\n",
    "    return distance, parent"
   ]
  },
  {
   "cell_type": "code",
   "execution_count": 9,
   "id": "b9aa06db",
   "metadata": {},
   "outputs": [],
   "source": [
    "def get_path(parent, source_node, dest_node):\n",
    "    '''\n",
    "    Recover path using list of node parents, start at destination and end at source\n",
    "    Returns: list of nodes in path (reverse order)\n",
    "    '''\n",
    "    path = [dest_node]\n",
    "    current_node = dest_node\n",
    "    while current_node != source_node:\n",
    "        path.append(parent[current_node])\n",
    "        current_node = parent[current_node]\n",
    "    return path"
   ]
  },
  {
   "cell_type": "code",
   "execution_count": 10,
   "id": "d746b8a2",
   "metadata": {},
   "outputs": [],
   "source": [
    "def get_driver(p, dt, day_type, start_time):\n",
    "    '''\n",
    "    Get the next driver from the driver PQ (Task 3 based on estimated time)\n",
    "    Update relevant driver and passenger variables and get the time to traverse from driver location to passenger pickup\n",
    "    Returns: Driver match\n",
    "    '''\n",
    "    p.total_time = 0\n",
    "    d_match_tuple = None #(driver available, id, driver object)\n",
    "    d_match = None #driver\n",
    "    pickup_time = float('inf')\n",
    "    availablesize = 0\n",
    "    all_potential_candidates = []\n",
    "    \n",
    "    while driver_q:\n",
    "        d_candidate = heapq.heappop(driver_q) #(datetime, id, driver object)\n",
    "        d_time, idx, d = d_candidate\n",
    "        if d_time <= start_time: #is available\n",
    "            availablesize += 1\n",
    "            if check_active(start_time, d): #driver active or been sitting for too long\n",
    "                all_time_est, _ = a_star(d.current_node, p.source_node, p.appear, day_type)\n",
    "                time_est = all_time_est[p.source_node]\n",
    "                if time_est < pickup_time: #if better match\n",
    "                    pickup_time = time_est\n",
    "                    if d_match_tuple:\n",
    "                        all_potential_candidates.append(d_match_tuple)\n",
    "                        # heapq.heappush(driver_q, d_match_tuple) #put current match back into q\n",
    "                    d_match = d\n",
    "                    d_match_tuple = d_candidate\n",
    "                else:\n",
    "                    all_potential_candidates.append(d_candidate)\n",
    "                    # heapq.heappush(driver_q, d_candidate) #not a better match, put back in q\n",
    "            else:\n",
    "                completed_drivers.append(d)\n",
    "                driver_profits.append(d.get_profit())\n",
    "        else:\n",
    "            #push back to heap since not actually available yet\n",
    "            heapq.heappush(driver_q, (d_time, d.idx, d))\n",
    "            break\n",
    "    for i in range(len(all_potential_candidates)):\n",
    "           heapq.heappush(driver_q, all_potential_candidates[i])\n",
    "        \n",
    "    wait_time = 0\n",
    "    if d_match is None: #check if no match found (no drivers available), choose next available\n",
    "        available_time, idx, d_match = heapq.heappop(driver_q) #(datetime, id, driver object) \n",
    "        time_diff = available_time - p.appear\n",
    "        wait_time = time_diff.total_seconds()/3600 #get number of hours passenger has to wait for next driver to be available\n",
    "        all_time_est, _ = a_star(d_match.current_node, p.source_node, p.appear, day_type)\n",
    "        pickup_time = all_time_est[p.source_node]\n",
    "\n",
    "    with open('driver_order.txt', 'a') as file:\n",
    "            file.write(f\"Driver {d_match.idx}: matched with passenger {p.idx} and available driver # is {availablesize} \\n\")\n",
    "\n",
    "    p.total_time += wait_time\n",
    "    d_match.current_node = p.source_node\n",
    "    d_match.pickup_time += pickup_time\n",
    "    p.total_time += pickup_time\n",
    "    with open('pwaittime.txt', 'a') as file:\n",
    "        file.write(f\"passenger {p.idx}: waiting {p.total_time} \\n\")\n",
    "    return d_match, pickup_time + wait_time"
   ]
  },
  {
   "cell_type": "code",
   "execution_count": 11,
   "id": "7be76669",
   "metadata": {},
   "outputs": [],
   "source": [
    "# def check_active(current_time, d):\n",
    "#     driver_leaves = 0.8\n",
    "#     val = random.random()\n",
    "#     if val < driver_leaves:\n",
    "#         with open('driver_order.txt', 'a') as file:\n",
    "#             file.write(f\"Driver {d.idx}: still in queue \\n\")\n",
    "#         return True #still active\n",
    "#     else:\n",
    "#         with open('driver_order.txt', 'a') as file:\n",
    "#             file.write(f\"Driver {d.idx}: exited \\n\")\n",
    "#         return False #driver is inactive\n",
    "def check_active(current_time, d):\n",
    "    if d.ride_time != 0:\n",
    "        max_active_time = timedelta(hours=8) #check if driver has been active for over 8 hours, reference passenger appear for current time\n",
    "        time_active = current_time - d.appear\n",
    "        \n",
    "        \n",
    "        probability = 0.0\n",
    "\n",
    "        if time_active >= max_active_time:\n",
    "            probability = 1.0\n",
    "\n",
    "        # Calculate probability based on hours active\n",
    "        else:\n",
    "            hours_active = time_active.total_seconds() / 3600  # Convert to hours\n",
    "            probability = hours_active / 5\n",
    "\n",
    "\n",
    "        if random.random() < probability:\n",
    "            with open('driver_order4.txt', 'a') as file:\n",
    "                file.write(f\"Driver {d.idx}: exited the queue \\n\")\n",
    "            return False\n",
    "        else:\n",
    "            with open('driver_order4.txt', 'a') as file:\n",
    "                file.write(f\"Driver {d.idx}: still in queue \\n\")\n",
    "            return True\n",
    "    else:\n",
    "        return True"
   ]
  },
  {
   "cell_type": "code",
   "execution_count": 24,
   "id": "4358341a",
   "metadata": {},
   "outputs": [],
   "source": [
    "def ride():\n",
    "    '''\n",
    "    Main function for going through passenger and driver queues\n",
    "    '''\n",
    "\n",
    "    global passenger_index\n",
    "    global day_type\n",
    "    global pass_time\n",
    "    global current_time\n",
    "    \n",
    "    while passenger_index < len(passenger_q) and driver_q:\n",
    "        _, _, p = passenger_q[passenger_index]  #(datetime, id, passenger object)\n",
    "        updated_to_weekend = False\n",
    "        if p.appear - start_time >= timedelta(hours=24) and not updated_to_weekend:\n",
    "            with open('activity_log.txt', 'a') as file:\n",
    "                file.write(f\"time updated to weekend from this passenger: {p.idx} and {p.appear} \\n\")\n",
    "            day_type = 'weekend'\n",
    "            updated_to_weekend = True\n",
    "            \n",
    "        \n",
    "        d, pickup_time = get_driver(p, p.appear, day_type, pass_time)\n",
    "        current_time = p.appear + timedelta(hours=pickup_time) \n",
    "        pass_time = p.appear + timedelta(hours=pickup_time) #account for time to pickup\n",
    "        \n",
    "        time, parent = a_star(p.source_node, p.dest_node, current_time, day_type)\n",
    "        ride_time = time[p.dest_node]\n",
    "        p.total_time += ride_time\n",
    "        completed_passengers.append(p)\n",
    "        passenger_times.append(p.total_time)\n",
    "        d.source_node = p.dest_node\n",
    "        d.source = p.dest\n",
    "        d.ride_time += ride_time\n",
    "        \n",
    "        if math.isfinite(p.total_time):\n",
    "            current_time = timedelta(hours=ride_time) + current_time\n",
    "        passenger_index += 1\n",
    "        if check_active(current_time, d):\n",
    "            heapq.heappush(driver_q, (current_time, d.idx, d))\n",
    "       \n",
    "        else:\n",
    "            completed_drivers.append(d)\n",
    "            driver_profits.append(d.get_profit())\n",
    "    \n",
    "    while driver_q:\n",
    "        _, _, d = heapq.heappop(driver_q)\n",
    "        completed_drivers.append(d)\n",
    "        driver_profits.append(d.get_profit())\n",
    "        \n",
    "    return completed_passengers, completed_drivers, passenger_times, driver_profits"
   ]
  },
  {
   "cell_type": "markdown",
   "id": "517673b8",
   "metadata": {},
   "source": [
    "# Classes (Driver, Passenger)"
   ]
  },
  {
   "cell_type": "code",
   "execution_count": 14,
   "id": "641eb63d",
   "metadata": {},
   "outputs": [],
   "source": [
    "class driver:\n",
    "    def __init__(self, index, appear, source_lat, source_lon):\n",
    "        self.idx = index\n",
    "        self.appear = get_datetime(appear)\n",
    "        self.source = (source_lat, source_lon)\n",
    "        self.ride_time = 0 #total time logged driving passengers\n",
    "        self.pickup_time = 0 #total time logged driving to passengers\n",
    "        self.source_node = coordinate_to_key.get(kdtree.find_nearest((self.source[0], self.source[1])))\n",
    "        self.current_node = self.source_node #update as performing routes\n",
    "\n",
    "    def get_profit(self):\n",
    "        self.profit = self.ride_time - self.pickup_time\n",
    "        return self.profit"
   ]
  },
  {
   "cell_type": "code",
   "execution_count": 15,
   "id": "ebf026ce",
   "metadata": {},
   "outputs": [],
   "source": [
    "class passenger:\n",
    "    def __init__(self, index, appear, source_lat, source_lon, dest_lat, dest_lon):\n",
    "        self.idx = index\n",
    "        self.appear = get_datetime(appear)\n",
    "        self.source = (source_lat, source_lon)\n",
    "        self.dest = (dest_lat, dest_lon)\n",
    "        self.total_time = 0 #total time logged for passenger (time appear to time drop off)\n",
    "        self.source_node = coordinate_to_key.get(kdtree.find_nearest((self.source[0], self.source[1])))\n",
    "        self.dest_node = coordinate_to_key.get(kdtree.find_nearest((self.dest[0], self.dest[1])))"
   ]
  },
  {
   "cell_type": "markdown",
   "id": "e874425a",
   "metadata": {},
   "source": [
    "# Run Task 4"
   ]
  },
  {
   "cell_type": "markdown",
   "metadata": {},
   "source": [
    "### Initialize Passenger Queue"
   ]
  },
  {
   "cell_type": "code",
   "execution_count": 16,
   "id": "72434d93",
   "metadata": {},
   "outputs": [],
   "source": [
    "passenger_q = []\n",
    "\n",
    "with open(f'{cwd}/passengers.csv', 'r') as csvfile:\n",
    "    reader_variable = csv.reader(csvfile, delimiter=\",\")\n",
    "    first_line = csvfile.readline()\n",
    "    for index, row in enumerate(reader_variable):\n",
    "        p = passenger(index, row[0], float(row[1]), float(row[2]), float(row[3]), float(row[4]))\n",
    "        passenger_q.append((p.appear, p.idx, p))"
   ]
  },
  {
   "cell_type": "markdown",
   "metadata": {},
   "source": [
    "#### Verification that nodes are correct for passengers"
   ]
  },
  {
   "cell_type": "code",
   "execution_count": 17,
   "metadata": {},
   "outputs": [],
   "source": [
    "def check_for_none(file_path):\n",
    "    with open(file_path, 'r') as file:\n",
    "        lines = file.readlines()\n",
    "\n",
    "    none_lines = []\n",
    "    for line_num, line in enumerate(lines, start=1):\n",
    "        if \"None\" in line:\n",
    "            none_lines.append(f\"Found 'None' on line {line_num}: {line.strip()}\")\n",
    "\n",
    "    return none_lines\n",
    "\n",
    "def check_for_diff(file1_path, file2_path):\n",
    "    differences_found = False\n",
    "    with open(file1_path, 'r') as file1, open(file2_path, 'r') as file2:\n",
    "        lines1 = file1.readlines()\n",
    "        lines2 = file2.readlines()\n",
    "\n",
    "    # check for differences in start and dest nodes\n",
    "    for line1, line2 in zip(lines1, lines2):\n",
    "        # extract start and dest nodes from both lines\n",
    "        start1 = line1.split('start: ')[1].split(' dest: ')[0].strip()\n",
    "        dest1 = line1.split('dest: ')[1].strip()\n",
    "        \n",
    "        start2 = line2.split('start: ')[1].split(' dest: ')[0].strip()\n",
    "        dest2 = line2.split('dest: ')[1].strip()\n",
    "\n",
    "        # compare the two nodes\n",
    "        if start1 != start2 or dest1 != dest2:\n",
    "            differences_found = True\n",
    "            print(\"Difference found:\")\n",
    "            print(\"File 1:\", line1.strip())\n",
    "            print(\"File 2:\", line2.strip())\n",
    "            print()\n",
    "\n",
    "    return differences_found\n",
    "\n"
   ]
  },
  {
   "cell_type": "code",
   "execution_count": 18,
   "metadata": {},
   "outputs": [
    {
     "name": "stdout",
     "output_type": "stream",
     "text": [
      "No lines containing 'None' found.\n"
     ]
    }
   ],
   "source": [
    "file_path = 'passenger_sanity_check.txt'\n",
    "\n",
    "with open(file_path, 'w') as file:\n",
    "    for passenger in passenger_q:\n",
    "        file.write('start: '+str(passenger[2].source_node) +'   dest: '+ str(passenger[2].dest_node) + '\\n')\n",
    "\n",
    "\n",
    "result = check_for_none(file_path)\n",
    "if result:\n",
    "    print(\"Lines containing 'None':\")\n",
    "    for line in result:\n",
    "        print(line)\n",
    "else:\n",
    "    print(\"No lines containing 'None' found.\")\n",
    "\n",
    "# result = check_for_diff('passenger_sanity_check.txt', 'passenger_brute_force.txt')\n",
    "# if not result:\n",
    "#     print('Im him')\n"
   ]
  },
  {
   "cell_type": "markdown",
   "metadata": {},
   "source": [
    "### Initialize Driver Priority Queue"
   ]
  },
  {
   "cell_type": "code",
   "execution_count": 19,
   "id": "6ee1dde9",
   "metadata": {},
   "outputs": [],
   "source": [
    "driver_q = []\n",
    "\n",
    "with open(f'{cwd}/drivers.csv', 'r') as csvfile:\n",
    "    reader_variable = csv.reader(csvfile, delimiter=\",\")\n",
    "    first_line = csvfile.readline()\n",
    "    for index, row in enumerate(reader_variable):\n",
    "        d = driver(index, row[0], float(row[1]), float(row[2]))\n",
    "        driver_q.append((d.appear, d.idx, d))\n",
    "        \n",
    "heapq.heapify(driver_q)"
   ]
  },
  {
   "cell_type": "markdown",
   "metadata": {},
   "source": [
    "#### Verification that nodes are correct for Driver Queue"
   ]
  },
  {
   "cell_type": "code",
   "execution_count": 20,
   "metadata": {},
   "outputs": [
    {
     "name": "stdout",
     "output_type": "stream",
     "text": [
      "No lines containing 'None' found.\n"
     ]
    }
   ],
   "source": [
    "file_path = 'driver_sanity_check.txt'\n",
    "\n",
    "with open(file_path, 'w') as file:\n",
    "    for driver in driver_q:\n",
    "        file.write('start: '+str(driver[2].source_node) + '\\n')\n",
    "\n",
    "\n",
    "result = check_for_none(file_path)\n",
    "if result:\n",
    "    print(\"Lines containing 'None':\")\n",
    "    for line in result:\n",
    "        print(line)\n",
    "else:\n",
    "    print(\"No lines containing 'None' found.\")"
   ]
  },
  {
   "cell_type": "code",
   "execution_count": 25,
   "id": "749e5d0c",
   "metadata": {},
   "outputs": [],
   "source": [
    "completed_passengers = []\n",
    "completed_drivers = []\n",
    "passenger_times = []\n",
    "driver_profits = []\n",
    "day_type = 'weekday'\n",
    "start_time = passenger_q[0][0]\n",
    "current_time = start_time\n",
    "pass_time = start_time\n",
    "passenger_index = 0  # Track the passenger queue index\n",
    "\n",
    "completed_passengers, completed_drivers, passenger_times, driver_profits = ride()"
   ]
  },
  {
   "cell_type": "code",
   "execution_count": 26,
   "id": "66cbaa22",
   "metadata": {},
   "outputs": [
    {
     "name": "stdout",
     "output_type": "stream",
     "text": [
      "1.4777804008813369\n",
      "0.3385439472001031\n"
     ]
    }
   ],
   "source": [
    "file_path = 'passenger_times.txt'\n",
    "\n",
    "# Open the file in write mode\n",
    "with open(file_path, 'w') as file:\n",
    "    # Write each value in passenger_times list to the file\n",
    "    for time in passenger_times:\n",
    "        file.write(str(time) + '\\n')\n",
    "\n",
    "\n",
    "file_path = 'driver_profits.txt'\n",
    "\n",
    "# Open the file in write mode\n",
    "with open(file_path, 'w') as file:\n",
    "    # Write each value in driver profist list to the file\n",
    "    for profit in driver_profits:\n",
    "        file.write(str(profit) + '\\n')\n",
    "\n",
    "print(sum(passenger_times)/len(passenger_times))\n",
    "print(sum(driver_profits)/len(driver_profits))\n"
   ]
  },
  {
   "cell_type": "code",
   "execution_count": 27,
   "id": "66bea8d8",
   "metadata": {},
   "outputs": [
    {
     "data": {
      "text/plain": [
       "<Axes: ylabel='Count'>"
      ]
     },
     "execution_count": 27,
     "metadata": {},
     "output_type": "execute_result"
    },
    {
     "data": {
      "image/png": "[encoded data removed]",
      "text/plain": [
       "<Figure size 640x480 with 1 Axes>"
      ]
     },
     "metadata": {},
     "output_type": "display_data"
    }
   ],
   "source": [
    "sns.histplot(passenger_times)"
   ]
  },
  {
   "cell_type": "code",
   "execution_count": null,
   "id": "83b6e611",
   "metadata": {},
   "outputs": [],
   "source": [
    "sns.histplot(driver_profits)"
   ]
  },
  {
   "cell_type": "markdown",
   "id": "4b9ca965",
   "metadata": {},
   "source": [
    "# A* Test\n",
    "Single passenger and single driver"
   ]
  },
  {
   "cell_type": "code",
   "execution_count": null,
   "id": "822317c8",
   "metadata": {},
   "outputs": [],
   "source": [
    "nodes_df = pd.DataFrame(nodes).T\n",
    "nodes_df.head()\n",
    "\n",
    "#test passenger\n",
    "with open(f'{cwd}/passengers.csv', 'r') as csvfile:\n",
    "    reader_variable = csv.reader(csvfile, delimiter=\",\")\n",
    "    first_line = csvfile.readline()\n",
    "    for index, row in enumerate(reader_variable):\n",
    "        if index > 0:\n",
    "            break\n",
    "        p1 = passenger(index, row[0], float(row[1]), float(row[2]), float(row[3]), float(row[4]))\n",
    "\n",
    "print(vars(p1))\n",
    "\n",
    "#test driver\n",
    "with open(f'{cwd}/drivers.csv', 'r') as csvfile:\n",
    "    reader_variable = csv.reader(csvfile, delimiter=\",\")\n",
    "    first_line = csvfile.readline()\n",
    "    for index, row in enumerate(reader_variable):\n",
    "        if index > 0:\n",
    "            break\n",
    "        d1 = driver(index, row[0], float(row[1]), float(row[2]))\n",
    "\n",
    "print(vars(d1))\n",
    "\n",
    "print('wait time (hours)', (d1.appear-p1.appear).total_seconds()/3600)\n",
    "print(d1.appear)\n",
    "pickup_times, pickup_parent = a_star(d1.source_node, p1.source_node, p1.appear, 'weekday')\n",
    "pickup_time = pickup_times[p1.source_node]\n",
    "print('pickup time (hours):', pickup_time) #get time from source to destination\n",
    "pickup_path = get_path(pickup_parent, d1.source_node, p1.source_node) #retrieve path from parent dict\n",
    "pickup_path_coords = nodes_df[nodes_df.index.isin(pickup_path)] #retrieve path coordinates (to verify graphically)\n",
    "print('pickup path trajectory:')\n",
    "print(pickup_path_coords.head(5))\n",
    "current_time = p1.appear + timedelta(hours=pickup_time)\n",
    "d1.pickup_time += pickup_time\n",
    "\n",
    "time, parent = a_star(p1.source_node, p1.dest_node, current_time, 'weekday')\n",
    "print('route time (hours):', time[p1.dest_node]) #get time from source to destination\n",
    "path = get_path(parent, p1.source_node, p1.dest_node) #retrieve path from parent dict\n",
    "path_coords = nodes_df[nodes_df.index.isin(path)] #retrieve path coordinates (to verify graphically)\n",
    "print('path trajectory:')\n",
    "d1.ride_time = time[p1.dest_node]\n",
    "print(path_coords.head(5))\n",
    "print(d1.get_profit())"
   ]
  },
  {
   "cell_type": "code",
   "execution_count": null,
   "id": "c57a1097",
   "metadata": {},
   "outputs": [],
   "source": [
    "#plot nodes and path coords\n",
    "plt.figure(figsize=(20, 20))\n",
    "sns.scatterplot(nodes_df, x='lon', y='lat', size=1, alpha=0.6, linewidth=0, label='node', color='grey')\n",
    "sns.lineplot(path_coords, x='lon', y='lat', color='red', alpha=1, label='ride path', lw=3)\n",
    "sns.lineplot(pickup_path_coords, x='lon', y='lat', color='blue', alpha=1, label='pickup path', lw=3)\n",
    "#plt.plot([p1.source[1]], [p1.source[0]], marker='*', color='orange', markersize=20, label='p source')\n",
    "#plt.plot([d1.source[1]], [d1.source[0]], marker='^', color='orange', markersize=20, label='d source')\n",
    "# plt.plot([p1.dest[1]], [p1.dest[0]], marker='*', color='blue', markersize=20, label='p dest')\n",
    "plt.legend()"
   ]
  },
  {
   "cell_type": "code",
   "execution_count": null,
   "id": "b35902fd",
   "metadata": {},
   "outputs": [],
   "source": []
  }
 ],
 "metadata": {
  "kernelspec": {
   "display_name": "Python 3 (ipykernel)",
   "language": "python",
   "name": "python3"
  },
  "language_info": {
   "codemirror_mode": {
    "name": "ipython",
    "version": 3
   },
   "file_extension": ".py",
   "mimetype": "text/x-python",
   "name": "python",
   "nbconvert_exporter": "python",
   "pygments_lexer": "ipython3",
   "version": "3.11.0"
  }
 },
 "nbformat": 4,
 "nbformat_minor": 5
}
