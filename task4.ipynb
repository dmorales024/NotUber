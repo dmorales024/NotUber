{
 "cells": [
  {
   "cell_type": "code",
   "execution_count": 41,
   "id": "9f05758d",
   "metadata": {},
   "outputs": [],
   "source": [
    "from datetime import datetime, timedelta\n",
    "import numpy as np\n",
    "import pandas as pd\n",
    "import json\n",
    "import os\n",
    "import math\n",
    "import heapq\n",
    "import seaborn as sns\n",
    "import matplotlib.pyplot as plt\n",
    "import csv\n",
    "\n",
    "import random"
   ]
  },
  {
   "cell_type": "code",
   "execution_count": 42,
   "id": "89a04837",
   "metadata": {},
   "outputs": [
    {
     "name": "stdout",
     "output_type": "stream",
     "text": [
      "/Users/m1m1024/Desktop/cs330/cs330-casestudy\n"
     ]
    }
   ],
   "source": [
    "cwd = os.getcwd()\n",
    "print(cwd)"
   ]
  },
  {
   "cell_type": "markdown",
   "id": "0b8c4876",
   "metadata": {},
   "source": [
    "# Load Data"
   ]
  },
  {
   "cell_type": "code",
   "execution_count": 43,
   "id": "44e59cd4",
   "metadata": {},
   "outputs": [
    {
     "ename": "FileNotFoundError",
     "evalue": "[Errno 2] No such file or directory: '/Users/m1m1024/Desktop/cs330/cs330-casestudy/node_data.json'",
     "output_type": "error",
     "traceback": [
      "\u001b[0;31m---------------------------------------------------------------------------\u001b[0m",
      "\u001b[0;31mFileNotFoundError\u001b[0m                         Traceback (most recent call last)",
      "\u001b[1;32m/Users/m1m1024/Desktop/cs330/cs330-casestudy/task4.ipynb Cell 4\u001b[0m line \u001b[0;36m4\n\u001b[1;32m      <a href='vscode-notebook-cell:/Users/m1m1024/Desktop/cs330/cs330-casestudy/task4.ipynb#Y115sZmlsZQ%3D%3D?line=0'>1</a>\u001b[0m \u001b[39mwith\u001b[39;00m \u001b[39mopen\u001b[39m(\u001b[39mf\u001b[39m\u001b[39m'\u001b[39m\u001b[39m{\u001b[39;00mcwd\u001b[39m}\u001b[39;00m\u001b[39m/adjacency 2.json\u001b[39m\u001b[39m'\u001b[39m) \u001b[39mas\u001b[39;00m adjacency_f:\n\u001b[1;32m      <a href='vscode-notebook-cell:/Users/m1m1024/Desktop/cs330/cs330-casestudy/task4.ipynb#Y115sZmlsZQ%3D%3D?line=1'>2</a>\u001b[0m     adjacency \u001b[39m=\u001b[39m json\u001b[39m.\u001b[39mload(adjacency_f)\n\u001b[0;32m----> <a href='vscode-notebook-cell:/Users/m1m1024/Desktop/cs330/cs330-casestudy/task4.ipynb#Y115sZmlsZQ%3D%3D?line=3'>4</a>\u001b[0m \u001b[39mwith\u001b[39;00m \u001b[39mopen\u001b[39;49m(\u001b[39mf\u001b[39;49m\u001b[39m'\u001b[39;49m\u001b[39m{\u001b[39;49;00mcwd\u001b[39m}\u001b[39;49;00m\u001b[39m/node_data.json\u001b[39;49m\u001b[39m'\u001b[39;49m) \u001b[39mas\u001b[39;00m node_f:\n\u001b[1;32m      <a href='vscode-notebook-cell:/Users/m1m1024/Desktop/cs330/cs330-casestudy/task4.ipynb#Y115sZmlsZQ%3D%3D?line=4'>5</a>\u001b[0m     nodes \u001b[39m=\u001b[39m json\u001b[39m.\u001b[39mload(node_f)\n",
      "File \u001b[0;32m~/Desktop/cs330/.venv/lib/python3.11/site-packages/IPython/core/interactiveshell.py:308\u001b[0m, in \u001b[0;36m_modified_open\u001b[0;34m(file, *args, **kwargs)\u001b[0m\n\u001b[1;32m    301\u001b[0m \u001b[39mif\u001b[39;00m file \u001b[39min\u001b[39;00m {\u001b[39m0\u001b[39m, \u001b[39m1\u001b[39m, \u001b[39m2\u001b[39m}:\n\u001b[1;32m    302\u001b[0m     \u001b[39mraise\u001b[39;00m \u001b[39mValueError\u001b[39;00m(\n\u001b[1;32m    303\u001b[0m         \u001b[39mf\u001b[39m\u001b[39m\"\u001b[39m\u001b[39mIPython won\u001b[39m\u001b[39m'\u001b[39m\u001b[39mt let you open fd=\u001b[39m\u001b[39m{\u001b[39;00mfile\u001b[39m}\u001b[39;00m\u001b[39m by default \u001b[39m\u001b[39m\"\u001b[39m\n\u001b[1;32m    304\u001b[0m         \u001b[39m\"\u001b[39m\u001b[39mas it is likely to crash IPython. If you know what you are doing, \u001b[39m\u001b[39m\"\u001b[39m\n\u001b[1;32m    305\u001b[0m         \u001b[39m\"\u001b[39m\u001b[39myou can use builtins\u001b[39m\u001b[39m'\u001b[39m\u001b[39m open.\u001b[39m\u001b[39m\"\u001b[39m\n\u001b[1;32m    306\u001b[0m     )\n\u001b[0;32m--> 308\u001b[0m \u001b[39mreturn\u001b[39;00m io_open(file, \u001b[39m*\u001b[39;49margs, \u001b[39m*\u001b[39;49m\u001b[39m*\u001b[39;49mkwargs)\n",
      "\u001b[0;31mFileNotFoundError\u001b[0m: [Errno 2] No such file or directory: '/Users/m1m1024/Desktop/cs330/cs330-casestudy/node_data.json'"
     ]
    }
   ],
   "source": [
    "with open(f'{cwd}/adjacency 2.json') as adjacency_f:\n",
    "    adjacency = json.load(adjacency_f)\n",
    "    \n",
    "with open(f'{cwd}/node_data.json') as node_f:\n",
    "    nodes = json.load(node_f)"
   ]
  },
  {
   "cell_type": "markdown",
   "id": "31e78595",
   "metadata": {},
   "source": [
    "# Functions"
   ]
  },
  {
   "cell_type": "code",
   "execution_count": 4,
   "id": "0f71d539",
   "metadata": {},
   "outputs": [],
   "source": [
    "def haversine_distance(lat1, lon1, lat2, lon2):\n",
    "    '''\n",
    "    Haversine distance metric between two points\n",
    "    '''\n",
    "    \n",
    "    #earth radius in km\n",
    "    radius = 6371.0\n",
    "\n",
    "    #convert lat lon into radians from degress\n",
    "    lat1 = math.radians(lat1)\n",
    "    lon1 = math.radians(lon1)\n",
    "    lat2 = math.radians(lat2)\n",
    "    lon2 = math.radians(lon2)\n",
    "\n",
    "    #haversine from wikipedia\n",
    "    dlon = lon2 - lon1\n",
    "    dlat = lat2 - lat1\n",
    "    a = math.sin(dlat / 2)**2 + math.cos(lat1) * math.cos(lat2) * math.sin(dlon / 2)**2\n",
    "    c = 2 * math.atan2(math.sqrt(a), math.sqrt(1 - a))\n",
    "    distance = radius * c\n",
    "\n",
    "    return distance"
   ]
  },
  {
   "cell_type": "code",
   "execution_count": 35,
   "metadata": {},
   "outputs": [],
   "source": [
    "class Node:\n",
    "    def __init__(self, point, left=None, right=None):\n",
    "        self.point = point\n",
    "        self.left = left\n",
    "        self.right = right\n",
    "\n",
    "class KDTree:\n",
    "    def __init__(self, points):\n",
    "        self.root = self._build_kdtree(points)\n",
    "\n",
    "    def _build_kdtree(self, points, depth=0):\n",
    "        if not points:\n",
    "            return None\n",
    "\n",
    "        axis = depth % 2  # 2 dimensions (alternating between latitude and longitude)\n",
    "\n",
    "        sorted_points = sorted(points, key=lambda point: point[axis])\n",
    "        median = len(sorted_points) // 2\n",
    "\n",
    "        return Node(\n",
    "            sorted_points[median],\n",
    "            self._build_kdtree(sorted_points[:median], depth + 1),\n",
    "            self._build_kdtree(sorted_points[median + 1 :], depth + 1),\n",
    "        )\n",
    "\n",
    "    def find_nearest(self, target):\n",
    "        best = [None, float(\"inf\")]\n",
    "\n",
    "        def search(node, depth=0):\n",
    "            if node is None:\n",
    "                return\n",
    "\n",
    "            axis = depth % 2\n",
    "            current_point = node.point\n",
    "            distance = haversine_distance(current_point[0], current_point[1], target[0], target[1])\n",
    "\n",
    "            if distance < best[1]:\n",
    "                best[0] = current_point\n",
    "                best[1] = distance\n",
    "\n",
    "            if target[axis] < current_point[axis]:\n",
    "                search(node.left, depth + 1)\n",
    "            else:\n",
    "                search(node.right, depth + 1)\n",
    "\n",
    "            other_side = abs(target[axis] - current_point[axis])\n",
    "            if other_side < best[1]:\n",
    "                if target[axis] < current_point[axis]:\n",
    "                    search(node.right, depth + 1)\n",
    "                else:\n",
    "                    search(node.left, depth + 1)\n",
    "\n",
    "        search(self.root)\n",
    "        return best[0]\n",
    "\n",
    "coordinates = [(node_info['lat'], node_info['lon']) for node_info in nodes.values()]\n",
    "coordinate_to_key = {coord: key for key, coord in zip(nodes.keys(), coordinates)}\n",
    "kdtree = KDTree(coordinates)\n"
   ]
  },
  {
   "cell_type": "code",
   "execution_count": 6,
   "id": "4c19609d",
   "metadata": {},
   "outputs": [],
   "source": [
    "def get_datetime(time_string):\n",
    "    '''\n",
    "    Convert any datetime strings to datetime\n",
    "    '''\n",
    "    datetime_format = \"%m/%d/%Y %H:%M:%S\"\n",
    "    time = datetime.strptime(time_string, datetime_format)\n",
    "    return time"
   ]
  },
  {
   "cell_type": "code",
   "execution_count": 7,
   "id": "9ef966a1",
   "metadata": {},
   "outputs": [],
   "source": [
    "def djikstras(source, dest, dt, day_type, start_time):\n",
    "    '''\n",
    "    Djikstra's algorithm\n",
    "    Returns: dict of minimum distances to nodes and dict of node parents\n",
    "    '''\n",
    "    distance = {} #distances to each node\n",
    "    parent = {} #\n",
    "   # print(\"datetime \", dt)\n",
    "    hour = dt.hour\n",
    "#     print(\"source \", source)\n",
    "#     print(\"dest \", dest)\n",
    " \n",
    "    \n",
    "    #initialize all distances to infinity\n",
    "    for node in nodes:\n",
    "        distance[node] = float('inf')\n",
    "    distance[source] = 0\n",
    "    pq = [(0, source)]\n",
    "    while pq:\n",
    "        node_dist, node = heapq.heappop(pq)\n",
    "        if node == dest: #early stopping\n",
    "            break\n",
    "        if node in adjacency:\n",
    "            for neighbor in adjacency[node]:\n",
    "                for edge in adjacency[node][neighbor]:\n",
    "                    if edge['hour'] == hour and edge['day_type'] == day_type:\n",
    "                        edge_dist = edge['time']\n",
    "                        if distance[neighbor] > node_dist + edge_dist:\n",
    "                            distance[neighbor] = node_dist + edge_dist\n",
    "                            parent[neighbor] = node\n",
    "                            heapq.heappush(pq, (distance[neighbor], neighbor))\n",
    "    return distance, parent"
   ]
  },
  {
   "cell_type": "code",
   "execution_count": 8,
   "id": "b9aa06db",
   "metadata": {},
   "outputs": [],
   "source": [
    "def get_path(parent, source_node, dest_node):\n",
    "    '''\n",
    "    Recover path using list of node parents, start at destination and end at source\n",
    "    Returns: list of nodes in path (reverse order)\n",
    "    '''\n",
    "    path = [dest_node]\n",
    "    current_node = dest_node\n",
    "    while current_node != source_node:\n",
    "        path.append(parent[current_node])\n",
    "        current_node = parent[current_node]\n",
    "    return path"
   ]
  },
  {
   "cell_type": "code",
   "execution_count": 9,
   "id": "d746b8a2",
   "metadata": {},
   "outputs": [],
   "source": [
    "def get_driver(p, dt, day_type, start_time):\n",
    "    '''\n",
    "    Get the next driver from the driver PQ (Task 1 based on time)\n",
    "    Update relevant driver and passenger variables and get the time to traverse from driver location to passenger pickup\n",
    "    Returns: Driver match\n",
    "    '''\n",
    "    p.total_time = 0\n",
    "    if driver_q:\n",
    "        available_time, idx, d = heapq.heappop(driver_q) #(datetime, id, driver object)\n",
    "    else:\n",
    "        return None\n",
    "    #print(idx)\n",
    "    wait_time = 0\n",
    "    if p.appear < available_time:\n",
    "        time_diff = available_time - p.appear\n",
    "        wait_time += time_diff.seconds/3600 #get number of hours passenger has to wait for next driver to be available\n",
    "    time, _ = djikstras(d.current_node, p.source_node, dt, day_type, start_time)\n",
    "    wait_time += time[p.source_node]\n",
    "    d.current_node = p.source_node\n",
    "    d.pickup_time += wait_time\n",
    "    p.total_time += wait_time\n",
    "    return d"
   ]
  },
  {
   "cell_type": "code",
   "execution_count": 10,
   "id": "7be76669",
   "metadata": {},
   "outputs": [],
   "source": [
    "# def check_active(current_time, d):\n",
    "#     #max_active_time = timedelta(hours=8) #check if driver has been active for over 8 hours, reference passenger appear for current time\n",
    "#     #time_active = current_time - d.appear\n",
    "#     #if time_active < max_active_time:\n",
    "#     driver_leaves = 0.8\n",
    "#     if random.random() < driver_leaves:\n",
    "#         return True #still active\n",
    "#     else:\n",
    "#         return False #driver is inactive\n",
    "def check_active(current_time, d):\n",
    "    max_active_time = timedelta(hours=8) #check if driver has been active for over 8 hours, reference passenger appear for current time\n",
    "    time_active = current_time - d.appear\n",
    "    probability = 0.0\n",
    "\n",
    "    if time_active >= max_active_time:\n",
    "        probability = 1.0\n",
    "\n",
    "    # Calculate probability based on hours active\n",
    "    else:\n",
    "        hours_active = time_active.total_seconds() / 3600  # Convert to hours\n",
    "        probability = hours_active / 8\n",
    "    \n",
    "    if random.random() < probability:\n",
    "        return False\n",
    "    else:\n",
    "        return True"
   ]
  },
  {
   "cell_type": "code",
   "execution_count": 11,
   "id": "4358341a",
   "metadata": {},
   "outputs": [],
   "source": [
    "def ride():\n",
    "    '''\n",
    "    Main function for going through passenger and driver queues\n",
    "    '''\n",
    "    active_drivers = []\n",
    "    completed_passengers = []\n",
    "    completed_drivers = []\n",
    "    passenger_times = []\n",
    "    driver_profits = []\n",
    "    day_type = 'weekday'\n",
    "    start_time = passenger_q[0][0]\n",
    "    current_time = start_time\n",
    "    passenger_index = 0  # Track the passenger queue index\n",
    "    \n",
    "    \n",
    "    while passenger_index < len(passenger_q):\n",
    "        _, _, p = passenger_q[passenger_index]  #(datetime, id, passenger object)\n",
    "        d = get_driver(p, current_time, day_type, start_time)\n",
    "        if d is None:\n",
    "            break\n",
    "        active_drivers.append(d) #driver is now active (SHOULD CHANGE TO STATUS VARIABLE ASSOCIATED WITH DRIVER CLASS?)\n",
    "        time, parent = djikstras(p.source_node, p.dest_node, current_time, day_type, start_time)\n",
    "        ride_time = time[p.dest_node]\n",
    "        #print('ridetime',ride_time)\n",
    "        p.total_time += ride_time\n",
    "       # print('totaltime',p.total_time)\n",
    "        completed_passengers.append(p)\n",
    "        passenger_times.append(p.total_time)\n",
    "        d.source_node = p.dest_node\n",
    "        d.source = p.dest\n",
    "        d.ride_time += ride_time\n",
    "        if math.isfinite(p.total_time):\n",
    "            current_time = timedelta(hours=p.total_time) + p.appear  #get current time using total time waiting + riding by passenger\n",
    "        passenger_index += 1\n",
    "        if check_active(current_time, d):\n",
    "            heapq.heappush(driver_q, (current_time, d.idx, d))\n",
    "            #TODO: TASK 2 CONCERN -> how to deal with case where driver is not available yet but passenger request ride and is nearest\n",
    "       \n",
    "        else:\n",
    "            completed_drivers.append(d)\n",
    "            driver_profits.append(d.get_profit())\n",
    "    \n",
    "    while driver_q:\n",
    "        _, _, d = heapq.heappop(driver_q)\n",
    "        completed_drivers.append(d)\n",
    "        driver_profits.append(d.get_profit())\n",
    "        \n",
    "    return completed_passengers, completed_drivers, passenger_times, driver_profits"
   ]
  },
  {
   "cell_type": "markdown",
   "id": "517673b8",
   "metadata": {},
   "source": [
    "# Classes (Driver, Passenger)"
   ]
  },
  {
   "cell_type": "code",
   "execution_count": null,
   "id": "641eb63d",
   "metadata": {},
   "outputs": [],
   "source": [
    "class driver:\n",
    "    def __init__(self, index, appear, source_lat, source_lon):\n",
    "        self.idx = index\n",
    "        self.appear = get_datetime(appear)\n",
    "        self.source = (source_lat, source_lon)\n",
    "        self.ride_time = 0 #total time logged driving passengers\n",
    "        self.pickup_time = 0 #total time logged driving to passengers\n",
    "        self.source_node = nearest_neighbor_search(tree, (self.source[0], self.source[1]))\n",
    "        self.current_node = self.source_node #update as performing routes\n",
    "\n",
    "    def get_profit(self):\n",
    "        self.profit = self.ride_time - self.pickup_time\n",
    "        return self.profit"
   ]
  },
  {
   "cell_type": "code",
   "execution_count": 37,
   "id": "ebf026ce",
   "metadata": {},
   "outputs": [],
   "source": [
    "# class passenger:\n",
    "#     def __init__(self, index, appear, source_lat, source_lon, dest_lat, dest_lon):\n",
    "#         self.idx = index\n",
    "#         self.appear = get_datetime(appear)\n",
    "#         self.source = (source_lat, source_lon)\n",
    "#         self.dest = (dest_lat, dest_lon)\n",
    "#         self.total_time = 0 #total time logged for passenger (time appear to time drop off)\n",
    "#         self.source_node = coordinate_to_key.get(tree.neares((self.source[0], self.source[1]))[1])\n",
    "#         self.dest_node = coordinate_to_key.get(tree.get_nearest((self.dest[0], self.dest[1]))[1])\n",
    "\n",
    "class passenger:\n",
    "    def __init__(self, index, appear, source_lat, source_lon, dest_lat, dest_lon):\n",
    "        self.idx = index\n",
    "        self.appear = get_datetime(appear)\n",
    "        self.source = (source_lat, source_lon)\n",
    "        self.dest = (dest_lat, dest_lon)\n",
    "        self.total_time = 0 #total time logged for passenger (time appear to time drop off)\n",
    "        self.source_node = coordinate_to_key.get(kdtree.find_nearest((self.source[0], self.source[1])))\n",
    "        self.dest_node = coordinate_to_key.get(kdtree.find_nearest((self.dest[0], self.dest[1])))"
   ]
  },
  {
   "cell_type": "markdown",
   "id": "e874425a",
   "metadata": {},
   "source": [
    "# Run Task 1"
   ]
  },
  {
   "cell_type": "code",
   "execution_count": 38,
   "id": "72434d93",
   "metadata": {},
   "outputs": [],
   "source": [
    "passenger_q = []\n",
    "\n",
    "with open(f'{cwd}/passengers.csv', 'r') as csvfile:\n",
    "    reader_variable = csv.reader(csvfile, delimiter=\",\")\n",
    "    first_line = csvfile.readline()\n",
    "    for index, row in enumerate(reader_variable):\n",
    "        p = passenger(index, row[0], float(row[1]), float(row[2]), float(row[3]), float(row[4]))\n",
    "        passenger_q.append((p.appear, p.idx, p))"
   ]
  },
  {
   "cell_type": "code",
   "execution_count": 39,
   "metadata": {},
   "outputs": [],
   "source": [
    "def check_for_none(file_path):\n",
    "    with open(file_path, 'r') as file:\n",
    "        lines = file.readlines()\n",
    "\n",
    "    none_lines = []\n",
    "    for line_num, line in enumerate(lines, start=1):\n",
    "        if \"None\" in line:\n",
    "            none_lines.append(f\"Found 'None' on line {line_num}: {line.strip()}\")\n",
    "\n",
    "    return none_lines\n",
    "\n",
    "def check_for_diff(file1_path, file2_path):\n",
    "    differences_found = False\n",
    "    with open(file1_path, 'r') as file1, open(file2_path, 'r') as file2:\n",
    "        lines1 = file1.readlines()\n",
    "        lines2 = file2.readlines()\n",
    "\n",
    "    # check for differences in start and dest nodes\n",
    "    for line1, line2 in zip(lines1, lines2):\n",
    "        # extract start and dest nodes from both lines\n",
    "        start1 = line1.split('start: ')[1].split(' dest: ')[0].strip()\n",
    "        dest1 = line1.split('dest: ')[1].strip()\n",
    "        \n",
    "        start2 = line2.split('start: ')[1].split(' dest: ')[0].strip()\n",
    "        dest2 = line2.split('dest: ')[1].strip()\n",
    "\n",
    "        # compare the two nodes\n",
    "        if start1 != start2 or dest1 != dest2:\n",
    "            print(\"Difference found:\")\n",
    "            print(\"File 1:\", line1.strip())\n",
    "            print(\"File 2:\", line2.strip())\n",
    "            print()\n",
    "\n",
    "    return differences_found\n",
    "\n"
   ]
  },
  {
   "cell_type": "code",
   "execution_count": 40,
   "metadata": {},
   "outputs": [
    {
     "name": "stdout",
     "output_type": "stream",
     "text": [
      "No lines containing 'None' found.\n",
      "Im him\n"
     ]
    }
   ],
   "source": [
    "file_path = 'passenger_sanity_check.txt'\n",
    "\n",
    "with open(file_path, 'w') as file:\n",
    "    for passenger in passenger_q:\n",
    "        file.write('start: '+str(passenger[2].source_node) +'   dest: '+ str(passenger[2].dest_node) + '\\n')\n",
    "\n",
    "\n",
    "result = check_for_none(file_path)\n",
    "if result:\n",
    "    print(\"Lines containing 'None':\")\n",
    "    for line in result:\n",
    "        print(line)\n",
    "else:\n",
    "    print(\"No lines containing 'None' found.\")\n",
    "\n",
    "result = check_for_diff('passenger_sanity_check.txt', 'passenger_brute_force.txt')\n",
    "if not result:\n",
    "    print('Im him')\n"
   ]
  },
  {
   "cell_type": "code",
   "execution_count": null,
   "id": "6ee1dde9",
   "metadata": {},
   "outputs": [],
   "source": [
    "driver_q = []\n",
    "\n",
    "with open(f'{cwd}/drivers.csv', 'r') as csvfile:\n",
    "    reader_variable = csv.reader(csvfile, delimiter=\",\")\n",
    "    first_line = csvfile.readline()\n",
    "    for index, row in enumerate(reader_variable):\n",
    "        d = driver(index, row[0], float(row[1]), float(row[2]))\n",
    "        driver_q.append((d.appear, d.idx, d))\n",
    "        \n",
    "heapq.heapify(driver_q)"
   ]
  },
  {
   "cell_type": "code",
   "execution_count": null,
   "id": "749e5d0c",
   "metadata": {},
   "outputs": [],
   "source": [
    "completed_passengers, completed_drivers, passenger_times, driver_profits = ride()"
   ]
  },
  {
   "cell_type": "code",
   "execution_count": null,
   "id": "3c1e27f3",
   "metadata": {},
   "outputs": [],
   "source": [
    "file_path = 'passenger_times.txt'\n",
    "\n",
    "# Open the file in write mode\n",
    "with open(file_path, 'w') as file:\n",
    "    # Write each value in passenger_times list to the file\n",
    "    for time in passenger_times:\n",
    "        file.write(str(time) + '\\n')"
   ]
  },
  {
   "cell_type": "code",
   "execution_count": null,
   "id": "1256c55d",
   "metadata": {},
   "outputs": [],
   "source": [
    "file_path = 'driver_profits.txt'\n",
    "\n",
    "# Open the file in write mode\n",
    "with open(file_path, 'w') as file:\n",
    "    # Write each value in passenger_times list to the file\n",
    "    for profit in driver_profits:\n",
    "        file.write(str(profit) + '\\n')"
   ]
  },
  {
   "cell_type": "markdown",
   "id": "4b9ca965",
   "metadata": {},
   "source": [
    "# Djikstra's Test\n",
    "Single passenger and single driver"
   ]
  },
  {
   "cell_type": "code",
   "execution_count": null,
   "id": "921aac4c",
   "metadata": {},
   "outputs": [],
   "source": [
    "#test passenger\n",
    "p1_test = passengers.iloc[0,:]\n",
    "p1 = passenger(p1_test['Date/Time'], p1_test['Source Lat'], p1_test['Source Lon'], p1_test['Dest Lat'], p1_test['Dest Lon'])\n",
    "print(vars(p1))"
   ]
  },
  {
   "cell_type": "code",
   "execution_count": null,
   "id": "69070ba2",
   "metadata": {},
   "outputs": [],
   "source": [
    "#test driver\n",
    "d1_test = drivers.iloc[0,:]\n",
    "d1 = driver(d1_test['Date/Time'], d1_test['Source Lat'], d1_test['Source Lon'])\n",
    "print(vars(d1))"
   ]
  },
  {
   "cell_type": "markdown",
   "id": "b150812f",
   "metadata": {},
   "source": [
    "https://docs.python.org/3/library/heapq.html\n",
    "Heapq --> PQ implementation\n",
    "\n",
    "https://builtin.com/software-engineering-perspectives/dijkstras-algorithm\n",
    "Djikstras with heapq as PQ implementation"
   ]
  },
  {
   "cell_type": "code",
   "execution_count": null,
   "id": "aef0e912",
   "metadata": {},
   "outputs": [],
   "source": [
    "time, parent = djikstras(p1.source_node, p1.dest_node)\n",
    "print('route time (hours):', time[p1.dest_node]) #get time from source to destination\n",
    "path = get_path(parent, p1.source_node, p1.dest_node) #retrieve path from parent dict\n",
    "path_coords = nodes_df[nodes_df.index.isin(path)] #retrieve path coordinates (to verify graphically)\n",
    "print('path trajectory:')\n",
    "print(path_coords.head(5))"
   ]
  },
  {
   "cell_type": "code",
   "execution_count": null,
   "id": "c57a1097",
   "metadata": {},
   "outputs": [],
   "source": [
    "#plot nodes and path coords\n",
    "plt.figure(figsize=(20, 20))\n",
    "sns.scatterplot(nodes_df, x='lon', y='lat', size=1, alpha=0.6, linewidth=0, label='node', color='grey')\n",
    "sns.lineplot(path_coords, x='lon', y='lat', color='red', alpha=1, label='path')\n",
    "plt.plot([p1.source[1]], [p1.source[0]], marker='*', color='orange', markersize=20, label='p source')\n",
    "plt.plot([d1.source[1]], [d1.source[0]], marker='^', color='orange', markersize=20, label='d source')\n",
    "plt.plot([p1.dest[1]], [p1.dest[0]], marker='*', color='blue', markersize=20, label='p dest')\n",
    "plt.legend()"
   ]
  }
 ],
 "metadata": {
  "kernelspec": {
   "display_name": "Python 3 (ipykernel)",
   "language": "python",
   "name": "python3"
  },
  "language_info": {
   "codemirror_mode": {
    "name": "ipython",
    "version": 3
   },
   "file_extension": ".py",
   "mimetype": "text/x-python",
   "name": "python",
   "nbconvert_exporter": "python",
   "pygments_lexer": "ipython3",
   "version": "3.11.0"
  }
 },
 "nbformat": 4,
 "nbformat_minor": 5
}
